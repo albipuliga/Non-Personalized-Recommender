{
  "cells": [
    {
      "cell_type": "markdown",
      "metadata": {
        "id": "sDGABUFkPVKl"
      },
      "source": [
        "# Build your own non-personalized recommender"
      ]
    },
    {
      "cell_type": "markdown",
      "metadata": {
        "id": "BeMwCuqdPhp_"
      },
      "source": [
        "## Import"
      ]
    },
    {
      "cell_type": "code",
      "execution_count": 2,
      "metadata": {
        "colab": {
          "base_uri": "https://localhost:8080/"
        },
        "id": "oB8OsrPt1Wqf",
        "outputId": "d0b382c4-83bb-4ef7-c02d-2143859fb6bb"
      },
      "outputs": [
        {
          "name": "stdout",
          "output_type": "stream",
          "text": [
            "Requirement already satisfied: scikit-surprise in /usr/local/lib/python3.11/dist-packages (1.1.4)\n",
            "Requirement already satisfied: joblib>=1.2.0 in /usr/local/lib/python3.11/dist-packages (from scikit-surprise) (1.4.2)\n",
            "Requirement already satisfied: numpy>=1.19.5 in /usr/local/lib/python3.11/dist-packages (from scikit-surprise) (1.26.4)\n",
            "Requirement already satisfied: scipy>=1.6.0 in /usr/local/lib/python3.11/dist-packages (from scikit-surprise) (1.13.1)\n"
          ]
        }
      ],
      "source": [
        "!pip install -q kaggle\n",
        "!pip install scikit-surprise"
      ]
    },
    {
      "cell_type": "code",
      "execution_count": 3,
      "metadata": {
        "id": "evRi6SAe1NZB"
      },
      "outputs": [],
      "source": [
        "from collections import defaultdict\n",
        "import time\n",
        "import random\n",
        "import pandas as pd\n",
        "import numpy as np\n",
        "import matplotlib.pyplot as plt\n",
        "import seaborn as sns\n",
        "import kaggle\n",
        "\n",
        "from surprise import Reader, AlgoBase, Dataset, SVD, accuracy\n",
        "from surprise.model_selection import train_test_split, cross_validate, KFold"
      ]
    },
    {
      "cell_type": "markdown",
      "metadata": {
        "id": "WSpBgOew1ODt"
      },
      "source": [
        "# Setup"
      ]
    },
    {
      "cell_type": "code",
      "execution_count": 4,
      "metadata": {
        "colab": {
          "base_uri": "https://localhost:8080/",
          "height": 74
        },
        "id": "DCoNyAzvPTJU",
        "outputId": "97dfea21-72dd-4d83-c410-14754eaeceed"
      },
      "outputs": [
        {
          "data": {
            "text/html": [
              "\n",
              "     <input type=\"file\" id=\"files-81eb7d91-af1f-4751-a9fc-52f88955a5bc\" name=\"files[]\" multiple disabled\n",
              "        style=\"border:none\" />\n",
              "     <output id=\"result-81eb7d91-af1f-4751-a9fc-52f88955a5bc\">\n",
              "      Upload widget is only available when the cell has been executed in the\n",
              "      current browser session. Please rerun this cell to enable.\n",
              "      </output>\n",
              "      <script>// Copyright 2017 Google LLC\n",
              "//\n",
              "// Licensed under the Apache License, Version 2.0 (the \"License\");\n",
              "// you may not use this file except in compliance with the License.\n",
              "// You may obtain a copy of the License at\n",
              "//\n",
              "//      http://www.apache.org/licenses/LICENSE-2.0\n",
              "//\n",
              "// Unless required by applicable law or agreed to in writing, software\n",
              "// distributed under the License is distributed on an \"AS IS\" BASIS,\n",
              "// WITHOUT WARRANTIES OR CONDITIONS OF ANY KIND, either express or implied.\n",
              "// See the License for the specific language governing permissions and\n",
              "// limitations under the License.\n",
              "\n",
              "/**\n",
              " * @fileoverview Helpers for google.colab Python module.\n",
              " */\n",
              "(function(scope) {\n",
              "function span(text, styleAttributes = {}) {\n",
              "  const element = document.createElement('span');\n",
              "  element.textContent = text;\n",
              "  for (const key of Object.keys(styleAttributes)) {\n",
              "    element.style[key] = styleAttributes[key];\n",
              "  }\n",
              "  return element;\n",
              "}\n",
              "\n",
              "// Max number of bytes which will be uploaded at a time.\n",
              "const MAX_PAYLOAD_SIZE = 100 * 1024;\n",
              "\n",
              "function _uploadFiles(inputId, outputId) {\n",
              "  const steps = uploadFilesStep(inputId, outputId);\n",
              "  const outputElement = document.getElementById(outputId);\n",
              "  // Cache steps on the outputElement to make it available for the next call\n",
              "  // to uploadFilesContinue from Python.\n",
              "  outputElement.steps = steps;\n",
              "\n",
              "  return _uploadFilesContinue(outputId);\n",
              "}\n",
              "\n",
              "// This is roughly an async generator (not supported in the browser yet),\n",
              "// where there are multiple asynchronous steps and the Python side is going\n",
              "// to poll for completion of each step.\n",
              "// This uses a Promise to block the python side on completion of each step,\n",
              "// then passes the result of the previous step as the input to the next step.\n",
              "function _uploadFilesContinue(outputId) {\n",
              "  const outputElement = document.getElementById(outputId);\n",
              "  const steps = outputElement.steps;\n",
              "\n",
              "  const next = steps.next(outputElement.lastPromiseValue);\n",
              "  return Promise.resolve(next.value.promise).then((value) => {\n",
              "    // Cache the last promise value to make it available to the next\n",
              "    // step of the generator.\n",
              "    outputElement.lastPromiseValue = value;\n",
              "    return next.value.response;\n",
              "  });\n",
              "}\n",
              "\n",
              "/**\n",
              " * Generator function which is called between each async step of the upload\n",
              " * process.\n",
              " * @param {string} inputId Element ID of the input file picker element.\n",
              " * @param {string} outputId Element ID of the output display.\n",
              " * @return {!Iterable<!Object>} Iterable of next steps.\n",
              " */\n",
              "function* uploadFilesStep(inputId, outputId) {\n",
              "  const inputElement = document.getElementById(inputId);\n",
              "  inputElement.disabled = false;\n",
              "\n",
              "  const outputElement = document.getElementById(outputId);\n",
              "  outputElement.innerHTML = '';\n",
              "\n",
              "  const pickedPromise = new Promise((resolve) => {\n",
              "    inputElement.addEventListener('change', (e) => {\n",
              "      resolve(e.target.files);\n",
              "    });\n",
              "  });\n",
              "\n",
              "  const cancel = document.createElement('button');\n",
              "  inputElement.parentElement.appendChild(cancel);\n",
              "  cancel.textContent = 'Cancel upload';\n",
              "  const cancelPromise = new Promise((resolve) => {\n",
              "    cancel.onclick = () => {\n",
              "      resolve(null);\n",
              "    };\n",
              "  });\n",
              "\n",
              "  // Wait for the user to pick the files.\n",
              "  const files = yield {\n",
              "    promise: Promise.race([pickedPromise, cancelPromise]),\n",
              "    response: {\n",
              "      action: 'starting',\n",
              "    }\n",
              "  };\n",
              "\n",
              "  cancel.remove();\n",
              "\n",
              "  // Disable the input element since further picks are not allowed.\n",
              "  inputElement.disabled = true;\n",
              "\n",
              "  if (!files) {\n",
              "    return {\n",
              "      response: {\n",
              "        action: 'complete',\n",
              "      }\n",
              "    };\n",
              "  }\n",
              "\n",
              "  for (const file of files) {\n",
              "    const li = document.createElement('li');\n",
              "    li.append(span(file.name, {fontWeight: 'bold'}));\n",
              "    li.append(span(\n",
              "        `(${file.type || 'n/a'}) - ${file.size} bytes, ` +\n",
              "        `last modified: ${\n",
              "            file.lastModifiedDate ? file.lastModifiedDate.toLocaleDateString() :\n",
              "                                    'n/a'} - `));\n",
              "    const percent = span('0% done');\n",
              "    li.appendChild(percent);\n",
              "\n",
              "    outputElement.appendChild(li);\n",
              "\n",
              "    const fileDataPromise = new Promise((resolve) => {\n",
              "      const reader = new FileReader();\n",
              "      reader.onload = (e) => {\n",
              "        resolve(e.target.result);\n",
              "      };\n",
              "      reader.readAsArrayBuffer(file);\n",
              "    });\n",
              "    // Wait for the data to be ready.\n",
              "    let fileData = yield {\n",
              "      promise: fileDataPromise,\n",
              "      response: {\n",
              "        action: 'continue',\n",
              "      }\n",
              "    };\n",
              "\n",
              "    // Use a chunked sending to avoid message size limits. See b/62115660.\n",
              "    let position = 0;\n",
              "    do {\n",
              "      const length = Math.min(fileData.byteLength - position, MAX_PAYLOAD_SIZE);\n",
              "      const chunk = new Uint8Array(fileData, position, length);\n",
              "      position += length;\n",
              "\n",
              "      const base64 = btoa(String.fromCharCode.apply(null, chunk));\n",
              "      yield {\n",
              "        response: {\n",
              "          action: 'append',\n",
              "          file: file.name,\n",
              "          data: base64,\n",
              "        },\n",
              "      };\n",
              "\n",
              "      let percentDone = fileData.byteLength === 0 ?\n",
              "          100 :\n",
              "          Math.round((position / fileData.byteLength) * 100);\n",
              "      percent.textContent = `${percentDone}% done`;\n",
              "\n",
              "    } while (position < fileData.byteLength);\n",
              "  }\n",
              "\n",
              "  // All done.\n",
              "  yield {\n",
              "    response: {\n",
              "      action: 'complete',\n",
              "    }\n",
              "  };\n",
              "}\n",
              "\n",
              "scope.google = scope.google || {};\n",
              "scope.google.colab = scope.google.colab || {};\n",
              "scope.google.colab._files = {\n",
              "  _uploadFiles,\n",
              "  _uploadFilesContinue,\n",
              "};\n",
              "})(self);\n",
              "</script> "
            ],
            "text/plain": [
              "<IPython.core.display.HTML object>"
            ]
          },
          "metadata": {},
          "output_type": "display_data"
        },
        {
          "name": "stdout",
          "output_type": "stream",
          "text": [
            "Saving kaggle.json to kaggle.json\n"
          ]
        }
      ],
      "source": [
        "def setup_kaggle():\n",
        "  from google.colab import files\n",
        "  uploaded = files.upload()\n",
        "  !chmod 600 kaggle.json\n",
        "  %mkdir -p /root/.kaggle/\n",
        "  %mv kaggle.json /root/.kaggle/\n",
        "\n",
        "setup_kaggle()"
      ]
    },
    {
      "cell_type": "code",
      "execution_count": 5,
      "metadata": {
        "id": "rMww2jw_1E5r"
      },
      "outputs": [],
      "source": [
        "kaggle.api.authenticate()\n",
        "\n",
        "my_seed = 1234\n",
        "random.seed(my_seed)\n",
        "np.random.seed(my_seed)\n",
        "\n",
        "# Set plot styling\n",
        "plt.style.use('ggplot')\n",
        "sns.set(style=\"whitegrid\")"
      ]
    },
    {
      "cell_type": "markdown",
      "metadata": {
        "id": "fYcYG7BAQatO"
      },
      "source": [
        "## Download Book-Crossing dataset"
      ]
    },
    {
      "cell_type": "code",
      "execution_count": null,
      "metadata": {
        "id": "cGN-s5QePgXR"
      },
      "outputs": [],
      "source": [
        "!kaggle datasets download -d arashnic/book-recommendation-dataset\n",
        "!unzip book-recommendation-dataset.zip"
      ]
    },
    {
      "cell_type": "code",
      "execution_count": null,
      "metadata": {
        "colab": {
          "base_uri": "https://localhost:8080/",
          "height": 589
        },
        "id": "-pSwMGOsQaIz",
        "outputId": "25473fc5-0f20-4d3f-daef-624146562f89"
      },
      "outputs": [
        {
          "name": "stderr",
          "output_type": "stream",
          "text": [
            "<ipython-input-7-be602d8f39af>:2: DtypeWarning: Columns (3) have mixed types. Specify dtype option on import or set low_memory=False.\n",
            "  books_df = pd.read_csv('Books.csv')\n"
          ]
        },
        {
          "name": "stdout",
          "output_type": "stream",
          "text": [
            "\n",
            "Books dataset:\n"
          ]
        },
        {
          "data": {
            "application/vnd.google.colaboratory.intrinsic+json": {
              "summary": "{\n  \"name\": \"display(ratings_df\",\n  \"rows\": 5,\n  \"fields\": [\n    {\n      \"column\": \"ISBN\",\n      \"properties\": {\n        \"dtype\": \"string\",\n        \"num_unique_values\": 5,\n        \"samples\": [\n          \"0002005018\",\n          \"0393045218\",\n          \"0060973129\"\n        ],\n        \"semantic_type\": \"\",\n        \"description\": \"\"\n      }\n    },\n    {\n      \"column\": \"Book-Title\",\n      \"properties\": {\n        \"dtype\": \"string\",\n        \"num_unique_values\": 5,\n        \"samples\": [\n          \"Clara Callan\",\n          \"The Mummies of Urumchi\",\n          \"Decision in Normandy\"\n        ],\n        \"semantic_type\": \"\",\n        \"description\": \"\"\n      }\n    },\n    {\n      \"column\": \"Book-Author\",\n      \"properties\": {\n        \"dtype\": \"string\",\n        \"num_unique_values\": 5,\n        \"samples\": [\n          \"Richard Bruce Wright\",\n          \"E. J. W. Barber\",\n          \"Carlo D'Este\"\n        ],\n        \"semantic_type\": \"\",\n        \"description\": \"\"\n      }\n    },\n    {\n      \"column\": \"Year-Of-Publication\",\n      \"properties\": {\n        \"dtype\": \"date\",\n        \"min\": 1991,\n        \"max\": 2002,\n        \"num_unique_values\": 4,\n        \"samples\": [\n          2001,\n          1999,\n          2002\n        ],\n        \"semantic_type\": \"\",\n        \"description\": \"\"\n      }\n    },\n    {\n      \"column\": \"Publisher\",\n      \"properties\": {\n        \"dtype\": \"string\",\n        \"num_unique_values\": 5,\n        \"samples\": [\n          \"HarperFlamingo Canada\",\n          \"W. W. Norton &amp; Company\",\n          \"HarperPerennial\"\n        ],\n        \"semantic_type\": \"\",\n        \"description\": \"\"\n      }\n    },\n    {\n      \"column\": \"Image-URL-S\",\n      \"properties\": {\n        \"dtype\": \"string\",\n        \"num_unique_values\": 5,\n        \"samples\": [\n          \"http://images.amazon.com/images/P/0002005018.01.THUMBZZZ.jpg\",\n          \"http://images.amazon.com/images/P/0393045218.01.THUMBZZZ.jpg\",\n          \"http://images.amazon.com/images/P/0060973129.01.THUMBZZZ.jpg\"\n        ],\n        \"semantic_type\": \"\",\n        \"description\": \"\"\n      }\n    },\n    {\n      \"column\": \"Image-URL-M\",\n      \"properties\": {\n        \"dtype\": \"string\",\n        \"num_unique_values\": 5,\n        \"samples\": [\n          \"http://images.amazon.com/images/P/0002005018.01.MZZZZZZZ.jpg\",\n          \"http://images.amazon.com/images/P/0393045218.01.MZZZZZZZ.jpg\",\n          \"http://images.amazon.com/images/P/0060973129.01.MZZZZZZZ.jpg\"\n        ],\n        \"semantic_type\": \"\",\n        \"description\": \"\"\n      }\n    },\n    {\n      \"column\": \"Image-URL-L\",\n      \"properties\": {\n        \"dtype\": \"string\",\n        \"num_unique_values\": 5,\n        \"samples\": [\n          \"http://images.amazon.com/images/P/0002005018.01.LZZZZZZZ.jpg\",\n          \"http://images.amazon.com/images/P/0393045218.01.LZZZZZZZ.jpg\",\n          \"http://images.amazon.com/images/P/0060973129.01.LZZZZZZZ.jpg\"\n        ],\n        \"semantic_type\": \"\",\n        \"description\": \"\"\n      }\n    }\n  ]\n}",
              "type": "dataframe"
            },
            "text/html": [
              "\n",
              "  <div id=\"df-0299b748-fdbd-42cd-b147-c82b0f8ca88a\" class=\"colab-df-container\">\n",
              "    <div>\n",
              "<style scoped>\n",
              "    .dataframe tbody tr th:only-of-type {\n",
              "        vertical-align: middle;\n",
              "    }\n",
              "\n",
              "    .dataframe tbody tr th {\n",
              "        vertical-align: top;\n",
              "    }\n",
              "\n",
              "    .dataframe thead th {\n",
              "        text-align: right;\n",
              "    }\n",
              "</style>\n",
              "<table border=\"1\" class=\"dataframe\">\n",
              "  <thead>\n",
              "    <tr style=\"text-align: right;\">\n",
              "      <th></th>\n",
              "      <th>ISBN</th>\n",
              "      <th>Book-Title</th>\n",
              "      <th>Book-Author</th>\n",
              "      <th>Year-Of-Publication</th>\n",
              "      <th>Publisher</th>\n",
              "      <th>Image-URL-S</th>\n",
              "      <th>Image-URL-M</th>\n",
              "      <th>Image-URL-L</th>\n",
              "    </tr>\n",
              "  </thead>\n",
              "  <tbody>\n",
              "    <tr>\n",
              "      <th>0</th>\n",
              "      <td>0195153448</td>\n",
              "      <td>Classical Mythology</td>\n",
              "      <td>Mark P. O. Morford</td>\n",
              "      <td>2002</td>\n",
              "      <td>Oxford University Press</td>\n",
              "      <td>http://images.amazon.com/images/P/0195153448.0...</td>\n",
              "      <td>http://images.amazon.com/images/P/0195153448.0...</td>\n",
              "      <td>http://images.amazon.com/images/P/0195153448.0...</td>\n",
              "    </tr>\n",
              "    <tr>\n",
              "      <th>1</th>\n",
              "      <td>0002005018</td>\n",
              "      <td>Clara Callan</td>\n",
              "      <td>Richard Bruce Wright</td>\n",
              "      <td>2001</td>\n",
              "      <td>HarperFlamingo Canada</td>\n",
              "      <td>http://images.amazon.com/images/P/0002005018.0...</td>\n",
              "      <td>http://images.amazon.com/images/P/0002005018.0...</td>\n",
              "      <td>http://images.amazon.com/images/P/0002005018.0...</td>\n",
              "    </tr>\n",
              "    <tr>\n",
              "      <th>2</th>\n",
              "      <td>0060973129</td>\n",
              "      <td>Decision in Normandy</td>\n",
              "      <td>Carlo D'Este</td>\n",
              "      <td>1991</td>\n",
              "      <td>HarperPerennial</td>\n",
              "      <td>http://images.amazon.com/images/P/0060973129.0...</td>\n",
              "      <td>http://images.amazon.com/images/P/0060973129.0...</td>\n",
              "      <td>http://images.amazon.com/images/P/0060973129.0...</td>\n",
              "    </tr>\n",
              "    <tr>\n",
              "      <th>3</th>\n",
              "      <td>0374157065</td>\n",
              "      <td>Flu: The Story of the Great Influenza Pandemic...</td>\n",
              "      <td>Gina Bari Kolata</td>\n",
              "      <td>1999</td>\n",
              "      <td>Farrar Straus Giroux</td>\n",
              "      <td>http://images.amazon.com/images/P/0374157065.0...</td>\n",
              "      <td>http://images.amazon.com/images/P/0374157065.0...</td>\n",
              "      <td>http://images.amazon.com/images/P/0374157065.0...</td>\n",
              "    </tr>\n",
              "    <tr>\n",
              "      <th>4</th>\n",
              "      <td>0393045218</td>\n",
              "      <td>The Mummies of Urumchi</td>\n",
              "      <td>E. J. W. Barber</td>\n",
              "      <td>1999</td>\n",
              "      <td>W. W. Norton &amp;amp; Company</td>\n",
              "      <td>http://images.amazon.com/images/P/0393045218.0...</td>\n",
              "      <td>http://images.amazon.com/images/P/0393045218.0...</td>\n",
              "      <td>http://images.amazon.com/images/P/0393045218.0...</td>\n",
              "    </tr>\n",
              "  </tbody>\n",
              "</table>\n",
              "</div>\n",
              "    <div class=\"colab-df-buttons\">\n",
              "\n",
              "  <div class=\"colab-df-container\">\n",
              "    <button class=\"colab-df-convert\" onclick=\"convertToInteractive('df-0299b748-fdbd-42cd-b147-c82b0f8ca88a')\"\n",
              "            title=\"Convert this dataframe to an interactive table.\"\n",
              "            style=\"display:none;\">\n",
              "\n",
              "  <svg xmlns=\"http://www.w3.org/2000/svg\" height=\"24px\" viewBox=\"0 -960 960 960\">\n",
              "    <path d=\"M120-120v-720h720v720H120Zm60-500h600v-160H180v160Zm220 220h160v-160H400v160Zm0 220h160v-160H400v160ZM180-400h160v-160H180v160Zm440 0h160v-160H620v160ZM180-180h160v-160H180v160Zm440 0h160v-160H620v160Z\"/>\n",
              "  </svg>\n",
              "    </button>\n",
              "\n",
              "  <style>\n",
              "    .colab-df-container {\n",
              "      display:flex;\n",
              "      gap: 12px;\n",
              "    }\n",
              "\n",
              "    .colab-df-convert {\n",
              "      background-color: #E8F0FE;\n",
              "      border: none;\n",
              "      border-radius: 50%;\n",
              "      cursor: pointer;\n",
              "      display: none;\n",
              "      fill: #1967D2;\n",
              "      height: 32px;\n",
              "      padding: 0 0 0 0;\n",
              "      width: 32px;\n",
              "    }\n",
              "\n",
              "    .colab-df-convert:hover {\n",
              "      background-color: #E2EBFA;\n",
              "      box-shadow: 0px 1px 2px rgba(60, 64, 67, 0.3), 0px 1px 3px 1px rgba(60, 64, 67, 0.15);\n",
              "      fill: #174EA6;\n",
              "    }\n",
              "\n",
              "    .colab-df-buttons div {\n",
              "      margin-bottom: 4px;\n",
              "    }\n",
              "\n",
              "    [theme=dark] .colab-df-convert {\n",
              "      background-color: #3B4455;\n",
              "      fill: #D2E3FC;\n",
              "    }\n",
              "\n",
              "    [theme=dark] .colab-df-convert:hover {\n",
              "      background-color: #434B5C;\n",
              "      box-shadow: 0px 1px 3px 1px rgba(0, 0, 0, 0.15);\n",
              "      filter: drop-shadow(0px 1px 2px rgba(0, 0, 0, 0.3));\n",
              "      fill: #FFFFFF;\n",
              "    }\n",
              "  </style>\n",
              "\n",
              "    <script>\n",
              "      const buttonEl =\n",
              "        document.querySelector('#df-0299b748-fdbd-42cd-b147-c82b0f8ca88a button.colab-df-convert');\n",
              "      buttonEl.style.display =\n",
              "        google.colab.kernel.accessAllowed ? 'block' : 'none';\n",
              "\n",
              "      async function convertToInteractive(key) {\n",
              "        const element = document.querySelector('#df-0299b748-fdbd-42cd-b147-c82b0f8ca88a');\n",
              "        const dataTable =\n",
              "          await google.colab.kernel.invokeFunction('convertToInteractive',\n",
              "                                                    [key], {});\n",
              "        if (!dataTable) return;\n",
              "\n",
              "        const docLinkHtml = 'Like what you see? Visit the ' +\n",
              "          '<a target=\"_blank\" href=https://colab.research.google.com/notebooks/data_table.ipynb>data table notebook</a>'\n",
              "          + ' to learn more about interactive tables.';\n",
              "        element.innerHTML = '';\n",
              "        dataTable['output_type'] = 'display_data';\n",
              "        await google.colab.output.renderOutput(dataTable, element);\n",
              "        const docLink = document.createElement('div');\n",
              "        docLink.innerHTML = docLinkHtml;\n",
              "        element.appendChild(docLink);\n",
              "      }\n",
              "    </script>\n",
              "  </div>\n",
              "\n",
              "\n",
              "<div id=\"df-9f670f4e-e1ea-46aa-b8d0-bfff9a77930a\">\n",
              "  <button class=\"colab-df-quickchart\" onclick=\"quickchart('df-9f670f4e-e1ea-46aa-b8d0-bfff9a77930a')\"\n",
              "            title=\"Suggest charts\"\n",
              "            style=\"display:none;\">\n",
              "\n",
              "<svg xmlns=\"http://www.w3.org/2000/svg\" height=\"24px\"viewBox=\"0 0 24 24\"\n",
              "     width=\"24px\">\n",
              "    <g>\n",
              "        <path d=\"M19 3H5c-1.1 0-2 .9-2 2v14c0 1.1.9 2 2 2h14c1.1 0 2-.9 2-2V5c0-1.1-.9-2-2-2zM9 17H7v-7h2v7zm4 0h-2V7h2v10zm4 0h-2v-4h2v4z\"/>\n",
              "    </g>\n",
              "</svg>\n",
              "  </button>\n",
              "\n",
              "<style>\n",
              "  .colab-df-quickchart {\n",
              "      --bg-color: #E8F0FE;\n",
              "      --fill-color: #1967D2;\n",
              "      --hover-bg-color: #E2EBFA;\n",
              "      --hover-fill-color: #174EA6;\n",
              "      --disabled-fill-color: #AAA;\n",
              "      --disabled-bg-color: #DDD;\n",
              "  }\n",
              "\n",
              "  [theme=dark] .colab-df-quickchart {\n",
              "      --bg-color: #3B4455;\n",
              "      --fill-color: #D2E3FC;\n",
              "      --hover-bg-color: #434B5C;\n",
              "      --hover-fill-color: #FFFFFF;\n",
              "      --disabled-bg-color: #3B4455;\n",
              "      --disabled-fill-color: #666;\n",
              "  }\n",
              "\n",
              "  .colab-df-quickchart {\n",
              "    background-color: var(--bg-color);\n",
              "    border: none;\n",
              "    border-radius: 50%;\n",
              "    cursor: pointer;\n",
              "    display: none;\n",
              "    fill: var(--fill-color);\n",
              "    height: 32px;\n",
              "    padding: 0;\n",
              "    width: 32px;\n",
              "  }\n",
              "\n",
              "  .colab-df-quickchart:hover {\n",
              "    background-color: var(--hover-bg-color);\n",
              "    box-shadow: 0 1px 2px rgba(60, 64, 67, 0.3), 0 1px 3px 1px rgba(60, 64, 67, 0.15);\n",
              "    fill: var(--button-hover-fill-color);\n",
              "  }\n",
              "\n",
              "  .colab-df-quickchart-complete:disabled,\n",
              "  .colab-df-quickchart-complete:disabled:hover {\n",
              "    background-color: var(--disabled-bg-color);\n",
              "    fill: var(--disabled-fill-color);\n",
              "    box-shadow: none;\n",
              "  }\n",
              "\n",
              "  .colab-df-spinner {\n",
              "    border: 2px solid var(--fill-color);\n",
              "    border-color: transparent;\n",
              "    border-bottom-color: var(--fill-color);\n",
              "    animation:\n",
              "      spin 1s steps(1) infinite;\n",
              "  }\n",
              "\n",
              "  @keyframes spin {\n",
              "    0% {\n",
              "      border-color: transparent;\n",
              "      border-bottom-color: var(--fill-color);\n",
              "      border-left-color: var(--fill-color);\n",
              "    }\n",
              "    20% {\n",
              "      border-color: transparent;\n",
              "      border-left-color: var(--fill-color);\n",
              "      border-top-color: var(--fill-color);\n",
              "    }\n",
              "    30% {\n",
              "      border-color: transparent;\n",
              "      border-left-color: var(--fill-color);\n",
              "      border-top-color: var(--fill-color);\n",
              "      border-right-color: var(--fill-color);\n",
              "    }\n",
              "    40% {\n",
              "      border-color: transparent;\n",
              "      border-right-color: var(--fill-color);\n",
              "      border-top-color: var(--fill-color);\n",
              "    }\n",
              "    60% {\n",
              "      border-color: transparent;\n",
              "      border-right-color: var(--fill-color);\n",
              "    }\n",
              "    80% {\n",
              "      border-color: transparent;\n",
              "      border-right-color: var(--fill-color);\n",
              "      border-bottom-color: var(--fill-color);\n",
              "    }\n",
              "    90% {\n",
              "      border-color: transparent;\n",
              "      border-bottom-color: var(--fill-color);\n",
              "    }\n",
              "  }\n",
              "</style>\n",
              "\n",
              "  <script>\n",
              "    async function quickchart(key) {\n",
              "      const quickchartButtonEl =\n",
              "        document.querySelector('#' + key + ' button');\n",
              "      quickchartButtonEl.disabled = true;  // To prevent multiple clicks.\n",
              "      quickchartButtonEl.classList.add('colab-df-spinner');\n",
              "      try {\n",
              "        const charts = await google.colab.kernel.invokeFunction(\n",
              "            'suggestCharts', [key], {});\n",
              "      } catch (error) {\n",
              "        console.error('Error during call to suggestCharts:', error);\n",
              "      }\n",
              "      quickchartButtonEl.classList.remove('colab-df-spinner');\n",
              "      quickchartButtonEl.classList.add('colab-df-quickchart-complete');\n",
              "    }\n",
              "    (() => {\n",
              "      let quickchartButtonEl =\n",
              "        document.querySelector('#df-9f670f4e-e1ea-46aa-b8d0-bfff9a77930a button');\n",
              "      quickchartButtonEl.style.display =\n",
              "        google.colab.kernel.accessAllowed ? 'block' : 'none';\n",
              "    })();\n",
              "  </script>\n",
              "</div>\n",
              "\n",
              "    </div>\n",
              "  </div>\n"
            ],
            "text/plain": [
              "         ISBN                                         Book-Title  \\\n",
              "0  0195153448                                Classical Mythology   \n",
              "1  0002005018                                       Clara Callan   \n",
              "2  0060973129                               Decision in Normandy   \n",
              "3  0374157065  Flu: The Story of the Great Influenza Pandemic...   \n",
              "4  0393045218                             The Mummies of Urumchi   \n",
              "\n",
              "            Book-Author Year-Of-Publication                   Publisher  \\\n",
              "0    Mark P. O. Morford                2002     Oxford University Press   \n",
              "1  Richard Bruce Wright                2001       HarperFlamingo Canada   \n",
              "2          Carlo D'Este                1991             HarperPerennial   \n",
              "3      Gina Bari Kolata                1999        Farrar Straus Giroux   \n",
              "4       E. J. W. Barber                1999  W. W. Norton &amp; Company   \n",
              "\n",
              "                                         Image-URL-S  \\\n",
              "0  http://images.amazon.com/images/P/0195153448.0...   \n",
              "1  http://images.amazon.com/images/P/0002005018.0...   \n",
              "2  http://images.amazon.com/images/P/0060973129.0...   \n",
              "3  http://images.amazon.com/images/P/0374157065.0...   \n",
              "4  http://images.amazon.com/images/P/0393045218.0...   \n",
              "\n",
              "                                         Image-URL-M  \\\n",
              "0  http://images.amazon.com/images/P/0195153448.0...   \n",
              "1  http://images.amazon.com/images/P/0002005018.0...   \n",
              "2  http://images.amazon.com/images/P/0060973129.0...   \n",
              "3  http://images.amazon.com/images/P/0374157065.0...   \n",
              "4  http://images.amazon.com/images/P/0393045218.0...   \n",
              "\n",
              "                                         Image-URL-L  \n",
              "0  http://images.amazon.com/images/P/0195153448.0...  \n",
              "1  http://images.amazon.com/images/P/0002005018.0...  \n",
              "2  http://images.amazon.com/images/P/0060973129.0...  \n",
              "3  http://images.amazon.com/images/P/0374157065.0...  \n",
              "4  http://images.amazon.com/images/P/0393045218.0...  "
            ]
          },
          "metadata": {},
          "output_type": "display_data"
        },
        {
          "name": "stdout",
          "output_type": "stream",
          "text": [
            "\n",
            "Ratings dataset:\n"
          ]
        },
        {
          "data": {
            "application/vnd.google.colaboratory.intrinsic+json": {
              "summary": "{\n  \"name\": \"display(ratings_df\",\n  \"rows\": 5,\n  \"fields\": [\n    {\n      \"column\": \"User-ID\",\n      \"properties\": {\n        \"dtype\": \"number\",\n        \"std\": 1,\n        \"min\": 276725,\n        \"max\": 276729,\n        \"num_unique_values\": 4,\n        \"samples\": [\n          276726,\n          276729,\n          276725\n        ],\n        \"semantic_type\": \"\",\n        \"description\": \"\"\n      }\n    },\n    {\n      \"column\": \"ISBN\",\n      \"properties\": {\n        \"dtype\": \"string\",\n        \"num_unique_values\": 5,\n        \"samples\": [\n          \"0155061224\",\n          \"0521795028\",\n          \"0446520802\"\n        ],\n        \"semantic_type\": \"\",\n        \"description\": \"\"\n      }\n    },\n    {\n      \"column\": \"Book-Rating\",\n      \"properties\": {\n        \"dtype\": \"number\",\n        \"std\": 2,\n        \"min\": 0,\n        \"max\": 6,\n        \"num_unique_values\": 4,\n        \"samples\": [\n          5,\n          6,\n          0\n        ],\n        \"semantic_type\": \"\",\n        \"description\": \"\"\n      }\n    }\n  ]\n}",
              "type": "dataframe"
            },
            "text/html": [
              "\n",
              "  <div id=\"df-90866888-80ac-4637-92da-1f5ab24a639d\" class=\"colab-df-container\">\n",
              "    <div>\n",
              "<style scoped>\n",
              "    .dataframe tbody tr th:only-of-type {\n",
              "        vertical-align: middle;\n",
              "    }\n",
              "\n",
              "    .dataframe tbody tr th {\n",
              "        vertical-align: top;\n",
              "    }\n",
              "\n",
              "    .dataframe thead th {\n",
              "        text-align: right;\n",
              "    }\n",
              "</style>\n",
              "<table border=\"1\" class=\"dataframe\">\n",
              "  <thead>\n",
              "    <tr style=\"text-align: right;\">\n",
              "      <th></th>\n",
              "      <th>User-ID</th>\n",
              "      <th>ISBN</th>\n",
              "      <th>Book-Rating</th>\n",
              "    </tr>\n",
              "  </thead>\n",
              "  <tbody>\n",
              "    <tr>\n",
              "      <th>0</th>\n",
              "      <td>276725</td>\n",
              "      <td>034545104X</td>\n",
              "      <td>0</td>\n",
              "    </tr>\n",
              "    <tr>\n",
              "      <th>1</th>\n",
              "      <td>276726</td>\n",
              "      <td>0155061224</td>\n",
              "      <td>5</td>\n",
              "    </tr>\n",
              "    <tr>\n",
              "      <th>2</th>\n",
              "      <td>276727</td>\n",
              "      <td>0446520802</td>\n",
              "      <td>0</td>\n",
              "    </tr>\n",
              "    <tr>\n",
              "      <th>3</th>\n",
              "      <td>276729</td>\n",
              "      <td>052165615X</td>\n",
              "      <td>3</td>\n",
              "    </tr>\n",
              "    <tr>\n",
              "      <th>4</th>\n",
              "      <td>276729</td>\n",
              "      <td>0521795028</td>\n",
              "      <td>6</td>\n",
              "    </tr>\n",
              "  </tbody>\n",
              "</table>\n",
              "</div>\n",
              "    <div class=\"colab-df-buttons\">\n",
              "\n",
              "  <div class=\"colab-df-container\">\n",
              "    <button class=\"colab-df-convert\" onclick=\"convertToInteractive('df-90866888-80ac-4637-92da-1f5ab24a639d')\"\n",
              "            title=\"Convert this dataframe to an interactive table.\"\n",
              "            style=\"display:none;\">\n",
              "\n",
              "  <svg xmlns=\"http://www.w3.org/2000/svg\" height=\"24px\" viewBox=\"0 -960 960 960\">\n",
              "    <path d=\"M120-120v-720h720v720H120Zm60-500h600v-160H180v160Zm220 220h160v-160H400v160Zm0 220h160v-160H400v160ZM180-400h160v-160H180v160Zm440 0h160v-160H620v160ZM180-180h160v-160H180v160Zm440 0h160v-160H620v160Z\"/>\n",
              "  </svg>\n",
              "    </button>\n",
              "\n",
              "  <style>\n",
              "    .colab-df-container {\n",
              "      display:flex;\n",
              "      gap: 12px;\n",
              "    }\n",
              "\n",
              "    .colab-df-convert {\n",
              "      background-color: #E8F0FE;\n",
              "      border: none;\n",
              "      border-radius: 50%;\n",
              "      cursor: pointer;\n",
              "      display: none;\n",
              "      fill: #1967D2;\n",
              "      height: 32px;\n",
              "      padding: 0 0 0 0;\n",
              "      width: 32px;\n",
              "    }\n",
              "\n",
              "    .colab-df-convert:hover {\n",
              "      background-color: #E2EBFA;\n",
              "      box-shadow: 0px 1px 2px rgba(60, 64, 67, 0.3), 0px 1px 3px 1px rgba(60, 64, 67, 0.15);\n",
              "      fill: #174EA6;\n",
              "    }\n",
              "\n",
              "    .colab-df-buttons div {\n",
              "      margin-bottom: 4px;\n",
              "    }\n",
              "\n",
              "    [theme=dark] .colab-df-convert {\n",
              "      background-color: #3B4455;\n",
              "      fill: #D2E3FC;\n",
              "    }\n",
              "\n",
              "    [theme=dark] .colab-df-convert:hover {\n",
              "      background-color: #434B5C;\n",
              "      box-shadow: 0px 1px 3px 1px rgba(0, 0, 0, 0.15);\n",
              "      filter: drop-shadow(0px 1px 2px rgba(0, 0, 0, 0.3));\n",
              "      fill: #FFFFFF;\n",
              "    }\n",
              "  </style>\n",
              "\n",
              "    <script>\n",
              "      const buttonEl =\n",
              "        document.querySelector('#df-90866888-80ac-4637-92da-1f5ab24a639d button.colab-df-convert');\n",
              "      buttonEl.style.display =\n",
              "        google.colab.kernel.accessAllowed ? 'block' : 'none';\n",
              "\n",
              "      async function convertToInteractive(key) {\n",
              "        const element = document.querySelector('#df-90866888-80ac-4637-92da-1f5ab24a639d');\n",
              "        const dataTable =\n",
              "          await google.colab.kernel.invokeFunction('convertToInteractive',\n",
              "                                                    [key], {});\n",
              "        if (!dataTable) return;\n",
              "\n",
              "        const docLinkHtml = 'Like what you see? Visit the ' +\n",
              "          '<a target=\"_blank\" href=https://colab.research.google.com/notebooks/data_table.ipynb>data table notebook</a>'\n",
              "          + ' to learn more about interactive tables.';\n",
              "        element.innerHTML = '';\n",
              "        dataTable['output_type'] = 'display_data';\n",
              "        await google.colab.output.renderOutput(dataTable, element);\n",
              "        const docLink = document.createElement('div');\n",
              "        docLink.innerHTML = docLinkHtml;\n",
              "        element.appendChild(docLink);\n",
              "      }\n",
              "    </script>\n",
              "  </div>\n",
              "\n",
              "\n",
              "<div id=\"df-9a33e37c-ecb0-4d5c-9835-32aefc749da8\">\n",
              "  <button class=\"colab-df-quickchart\" onclick=\"quickchart('df-9a33e37c-ecb0-4d5c-9835-32aefc749da8')\"\n",
              "            title=\"Suggest charts\"\n",
              "            style=\"display:none;\">\n",
              "\n",
              "<svg xmlns=\"http://www.w3.org/2000/svg\" height=\"24px\"viewBox=\"0 0 24 24\"\n",
              "     width=\"24px\">\n",
              "    <g>\n",
              "        <path d=\"M19 3H5c-1.1 0-2 .9-2 2v14c0 1.1.9 2 2 2h14c1.1 0 2-.9 2-2V5c0-1.1-.9-2-2-2zM9 17H7v-7h2v7zm4 0h-2V7h2v10zm4 0h-2v-4h2v4z\"/>\n",
              "    </g>\n",
              "</svg>\n",
              "  </button>\n",
              "\n",
              "<style>\n",
              "  .colab-df-quickchart {\n",
              "      --bg-color: #E8F0FE;\n",
              "      --fill-color: #1967D2;\n",
              "      --hover-bg-color: #E2EBFA;\n",
              "      --hover-fill-color: #174EA6;\n",
              "      --disabled-fill-color: #AAA;\n",
              "      --disabled-bg-color: #DDD;\n",
              "  }\n",
              "\n",
              "  [theme=dark] .colab-df-quickchart {\n",
              "      --bg-color: #3B4455;\n",
              "      --fill-color: #D2E3FC;\n",
              "      --hover-bg-color: #434B5C;\n",
              "      --hover-fill-color: #FFFFFF;\n",
              "      --disabled-bg-color: #3B4455;\n",
              "      --disabled-fill-color: #666;\n",
              "  }\n",
              "\n",
              "  .colab-df-quickchart {\n",
              "    background-color: var(--bg-color);\n",
              "    border: none;\n",
              "    border-radius: 50%;\n",
              "    cursor: pointer;\n",
              "    display: none;\n",
              "    fill: var(--fill-color);\n",
              "    height: 32px;\n",
              "    padding: 0;\n",
              "    width: 32px;\n",
              "  }\n",
              "\n",
              "  .colab-df-quickchart:hover {\n",
              "    background-color: var(--hover-bg-color);\n",
              "    box-shadow: 0 1px 2px rgba(60, 64, 67, 0.3), 0 1px 3px 1px rgba(60, 64, 67, 0.15);\n",
              "    fill: var(--button-hover-fill-color);\n",
              "  }\n",
              "\n",
              "  .colab-df-quickchart-complete:disabled,\n",
              "  .colab-df-quickchart-complete:disabled:hover {\n",
              "    background-color: var(--disabled-bg-color);\n",
              "    fill: var(--disabled-fill-color);\n",
              "    box-shadow: none;\n",
              "  }\n",
              "\n",
              "  .colab-df-spinner {\n",
              "    border: 2px solid var(--fill-color);\n",
              "    border-color: transparent;\n",
              "    border-bottom-color: var(--fill-color);\n",
              "    animation:\n",
              "      spin 1s steps(1) infinite;\n",
              "  }\n",
              "\n",
              "  @keyframes spin {\n",
              "    0% {\n",
              "      border-color: transparent;\n",
              "      border-bottom-color: var(--fill-color);\n",
              "      border-left-color: var(--fill-color);\n",
              "    }\n",
              "    20% {\n",
              "      border-color: transparent;\n",
              "      border-left-color: var(--fill-color);\n",
              "      border-top-color: var(--fill-color);\n",
              "    }\n",
              "    30% {\n",
              "      border-color: transparent;\n",
              "      border-left-color: var(--fill-color);\n",
              "      border-top-color: var(--fill-color);\n",
              "      border-right-color: var(--fill-color);\n",
              "    }\n",
              "    40% {\n",
              "      border-color: transparent;\n",
              "      border-right-color: var(--fill-color);\n",
              "      border-top-color: var(--fill-color);\n",
              "    }\n",
              "    60% {\n",
              "      border-color: transparent;\n",
              "      border-right-color: var(--fill-color);\n",
              "    }\n",
              "    80% {\n",
              "      border-color: transparent;\n",
              "      border-right-color: var(--fill-color);\n",
              "      border-bottom-color: var(--fill-color);\n",
              "    }\n",
              "    90% {\n",
              "      border-color: transparent;\n",
              "      border-bottom-color: var(--fill-color);\n",
              "    }\n",
              "  }\n",
              "</style>\n",
              "\n",
              "  <script>\n",
              "    async function quickchart(key) {\n",
              "      const quickchartButtonEl =\n",
              "        document.querySelector('#' + key + ' button');\n",
              "      quickchartButtonEl.disabled = true;  // To prevent multiple clicks.\n",
              "      quickchartButtonEl.classList.add('colab-df-spinner');\n",
              "      try {\n",
              "        const charts = await google.colab.kernel.invokeFunction(\n",
              "            'suggestCharts', [key], {});\n",
              "      } catch (error) {\n",
              "        console.error('Error during call to suggestCharts:', error);\n",
              "      }\n",
              "      quickchartButtonEl.classList.remove('colab-df-spinner');\n",
              "      quickchartButtonEl.classList.add('colab-df-quickchart-complete');\n",
              "    }\n",
              "    (() => {\n",
              "      let quickchartButtonEl =\n",
              "        document.querySelector('#df-9a33e37c-ecb0-4d5c-9835-32aefc749da8 button');\n",
              "      quickchartButtonEl.style.display =\n",
              "        google.colab.kernel.accessAllowed ? 'block' : 'none';\n",
              "    })();\n",
              "  </script>\n",
              "</div>\n",
              "\n",
              "    </div>\n",
              "  </div>\n"
            ],
            "text/plain": [
              "   User-ID        ISBN  Book-Rating\n",
              "0   276725  034545104X            0\n",
              "1   276726  0155061224            5\n",
              "2   276727  0446520802            0\n",
              "3   276729  052165615X            3\n",
              "4   276729  0521795028            6"
            ]
          },
          "metadata": {},
          "output_type": "display_data"
        }
      ],
      "source": [
        "books_df = pd.read_csv('Books.csv')\n",
        "ratings_df = pd.read_csv('Ratings.csv')\n",
        "\n",
        "print(\"\\nBooks dataset:\")\n",
        "display(books_df.head())\n",
        "\n",
        "print(\"\\nRatings dataset:\")\n",
        "display(ratings_df.head())"
      ]
    },
    {
      "cell_type": "markdown",
      "metadata": {
        "id": "1hdSysEgTUDp"
      },
      "source": [
        "## EDA"
      ]
    },
    {
      "cell_type": "markdown",
      "metadata": {
        "id": "d63cZXRlWAb_"
      },
      "source": [
        "### Basics"
      ]
    },
    {
      "cell_type": "code",
      "execution_count": null,
      "metadata": {
        "colab": {
          "base_uri": "https://localhost:8080/"
        },
        "id": "aMm7irftTVDS",
        "outputId": "4affa673-bc8b-4e03-c44a-6331de727917"
      },
      "outputs": [
        {
          "name": "stdout",
          "output_type": "stream",
          "text": [
            "Books DataFrame Info:\n",
            "<class 'pandas.core.frame.DataFrame'>\n",
            "RangeIndex: 271360 entries, 0 to 271359\n",
            "Data columns (total 8 columns):\n",
            " #   Column               Non-Null Count   Dtype \n",
            "---  ------               --------------   ----- \n",
            " 0   ISBN                 271360 non-null  object\n",
            " 1   Book-Title           271360 non-null  object\n",
            " 2   Book-Author          271358 non-null  object\n",
            " 3   Year-Of-Publication  271360 non-null  object\n",
            " 4   Publisher            271358 non-null  object\n",
            " 5   Image-URL-S          271360 non-null  object\n",
            " 6   Image-URL-M          271360 non-null  object\n",
            " 7   Image-URL-L          271357 non-null  object\n",
            "dtypes: object(8)\n",
            "memory usage: 16.6+ MB\n",
            "\n",
            "Ratings DataFrame Info:\n",
            "<class 'pandas.core.frame.DataFrame'>\n",
            "RangeIndex: 1149780 entries, 0 to 1149779\n",
            "Data columns (total 3 columns):\n",
            " #   Column       Non-Null Count    Dtype \n",
            "---  ------       --------------    ----- \n",
            " 0   User-ID      1149780 non-null  int64 \n",
            " 1   ISBN         1149780 non-null  object\n",
            " 2   Book-Rating  1149780 non-null  int64 \n",
            "dtypes: int64(2), object(1)\n",
            "memory usage: 26.3+ MB\n",
            "\n",
            "Missing values in Books DataFrame:\n",
            "ISBN                   0\n",
            "Book-Title             0\n",
            "Book-Author            2\n",
            "Year-Of-Publication    0\n",
            "Publisher              2\n",
            "Image-URL-S            0\n",
            "Image-URL-M            0\n",
            "Image-URL-L            3\n",
            "dtype: int64\n",
            "\n",
            "Missing values in Ratings DataFrame:\n",
            "User-ID        0\n",
            "ISBN           0\n",
            "Book-Rating    0\n",
            "dtype: int64\n"
          ]
        }
      ],
      "source": [
        "print(\"Books DataFrame Info:\")\n",
        "books_df.info()\n",
        "\n",
        "print(\"\\nRatings DataFrame Info:\")\n",
        "ratings_df.info()\n",
        "\n",
        "print(\"\\nMissing values in Books DataFrame:\")\n",
        "print(books_df.isnull().sum())\n",
        "\n",
        "print(\"\\nMissing values in Ratings DataFrame:\")\n",
        "print(ratings_df.isnull().sum())"
      ]
    },
    {
      "cell_type": "code",
      "execution_count": 9,
      "metadata": {
        "colab": {
          "base_uri": "https://localhost:8080/"
        },
        "id": "iHBGXqK-RkcK",
        "outputId": "40e6ec20-d8a9-4b74-8b7e-988fcc4befbc"
      },
      "outputs": [
        {
          "name": "stdout",
          "output_type": "stream",
          "text": [
            "Number of unique books: 271360\n",
            "Number of unique ratings: 11\n"
          ]
        }
      ],
      "source": [
        "print(\"Number of unique books:\", len(books_df['ISBN'].unique()))\n",
        "print(\"Number of unique ratings:\", len(ratings_df['Book-Rating'].unique())) # 0-10"
      ]
    },
    {
      "cell_type": "code",
      "execution_count": 10,
      "metadata": {
        "colab": {
          "base_uri": "https://localhost:8080/"
        },
        "id": "FyCcAUsBR3xF",
        "outputId": "be50b7c7-c2ec-4f45-f987-a15fa38e2ea0"
      },
      "outputs": [
        {
          "name": "stdout",
          "output_type": "stream",
          "text": [
            "The ratings mean is 2.87 and std is 3.8542\n"
          ]
        }
      ],
      "source": [
        "mean = ratings_df['Book-Rating'].mean()\n",
        "std = ratings_df['Book-Rating'].std()\n",
        "print(f'The ratings mean is {round(mean, 2)} and std is {round(std, 4)}')"
      ]
    },
    {
      "cell_type": "markdown",
      "metadata": {
        "id": "3X_KK_YpWDaH"
      },
      "source": [
        "### Distributions analysis"
      ]
    },
    {
      "cell_type": "code",
      "execution_count": 11,
      "metadata": {
        "colab": {
          "base_uri": "https://localhost:8080/",
          "height": 627
        },
        "id": "Ekw8wWQ9U-wg",
        "outputId": "0687e178-00af-4644-abff-259f80020523"
      },
      "outputs": [
        {
          "data": {
            "image/png": "[encoded data removed]",
            "text/plain": [
              "<Figure size 1000x600 with 1 Axes>"
            ]
          },
          "metadata": {},
          "output_type": "display_data"
        },
        {
          "name": "stdout",
          "output_type": "stream",
          "text": [
            "\n",
            "Percentage of implicit ratings (0): 62.28%\n",
            "Percentage of explicit ratings (1-10): 37.72%\n"
          ]
        }
      ],
      "source": [
        "plt.figure(figsize=(10, 6))\n",
        "sns.countplot(data=ratings_df, x='Book-Rating')\n",
        "plt.title('Distribution of Book Ratings')\n",
        "plt.xlabel('Rating')\n",
        "plt.ylabel('Count')\n",
        "plt.show()\n",
        "\n",
        "# Calculate percentage of implicit ratings (rating = 0)\n",
        "implicit_count = (ratings_df['Book-Rating'] == 0).sum()\n",
        "total_ratings = len(ratings_df)\n",
        "print(f\"\\nPercentage of implicit ratings (0): {implicit_count/total_ratings*100:.2f}%\")\n",
        "print(f\"Percentage of explicit ratings (1-10): {(1-implicit_count/total_ratings)*100:.2f}%\")"
      ]
    },
    {
      "cell_type": "code",
      "execution_count": 12,
      "metadata": {
        "colab": {
          "base_uri": "https://localhost:8080/",
          "height": 672
        },
        "id": "Wait6B7pVdht",
        "outputId": "bfde4bd8-d8a5-4269-ad2c-5075588c31a5"
      },
      "outputs": [
        {
          "data": {
            "image/png": "[encoded data removed]",
            "text/plain": [
              "<Figure size 1200x600 with 2 Axes>"
            ]
          },
          "metadata": {},
          "output_type": "display_data"
        },
        {
          "name": "stdout",
          "output_type": "stream",
          "text": [
            "\n",
            "Average number of ratings per user: 10.92\n",
            "Median number of ratings per user: 1.0\n",
            "Maximum number of ratings by a user: 13602\n"
          ]
        }
      ],
      "source": [
        "# Analyze user activity (number of ratings per user)\n",
        "user_activity = ratings_df['User-ID'].value_counts()\n",
        "\n",
        "plt.figure(figsize=(12, 6))\n",
        "plt.subplot(1, 2, 1)\n",
        "sns.histplot(user_activity, bins=50, kde=True)\n",
        "plt.title('Distribution of Ratings per User')\n",
        "plt.xlabel('Number of Ratings')\n",
        "plt.ylabel('Number of Users')\n",
        "\n",
        "plt.subplot(1, 2, 2)\n",
        "sns.histplot(user_activity[user_activity < 100], bins=50, kde=True)\n",
        "plt.title('Distribution of Ratings per User (< 100 ratings)')\n",
        "plt.xlabel('Number of Ratings')\n",
        "plt.ylabel('Number of Users')\n",
        "plt.tight_layout()\n",
        "plt.show()\n",
        "\n",
        "print(f\"\\nAverage number of ratings per user: {user_activity.mean():.2f}\")\n",
        "print(f\"Median number of ratings per user: {user_activity.median()}\")\n",
        "print(f\"Maximum number of ratings by a user: {user_activity.max()}\")"
      ]
    },
    {
      "cell_type": "code",
      "execution_count": 13,
      "metadata": {
        "colab": {
          "base_uri": "https://localhost:8080/",
          "height": 672
        },
        "id": "ch8o6UeMVpoG",
        "outputId": "0b9ae503-d708-4587-97c0-9659189ff389"
      },
      "outputs": [
        {
          "data": {
            "image/png": "[encoded data removed]",
            "text/plain": [
              "<Figure size 1200x600 with 2 Axes>"
            ]
          },
          "metadata": {},
          "output_type": "display_data"
        },
        {
          "name": "stdout",
          "output_type": "stream",
          "text": [
            "\n",
            "Average number of ratings per book: 3.38\n",
            "Median number of ratings per book: 1.0\n",
            "Maximum number of ratings for a book: 2502\n"
          ]
        }
      ],
      "source": [
        "# Analyze book popularity (number of ratings per book)\n",
        "book_popularity = ratings_df['ISBN'].value_counts()\n",
        "\n",
        "plt.figure(figsize=(12, 6))\n",
        "plt.subplot(1, 2, 1)\n",
        "sns.histplot(book_popularity, bins=50, kde=True)\n",
        "plt.title('Distribution of Ratings per Book')\n",
        "plt.xlabel('Number of Ratings')\n",
        "plt.ylabel('Number of Books')\n",
        "\n",
        "plt.subplot(1, 2, 2)\n",
        "sns.histplot(book_popularity[book_popularity < 50], bins=50, kde=True)\n",
        "plt.title('Distribution of Ratings per Book (< 50 ratings)')\n",
        "plt.xlabel('Number of Ratings')\n",
        "plt.ylabel('Number of Books')\n",
        "plt.tight_layout()\n",
        "plt.show()\n",
        "\n",
        "print(f\"\\nAverage number of ratings per book: {book_popularity.mean():.2f}\")\n",
        "print(f\"Median number of ratings per book: {book_popularity.median()}\")\n",
        "print(f\"Maximum number of ratings for a book: {book_popularity.max()}\")"
      ]
    },
    {
      "cell_type": "markdown",
      "metadata": {},
      "source": [
        "Both distributions of ratings per user and per book respect expected **Power Law distribution**."
      ]
    },
    {
      "cell_type": "markdown",
      "metadata": {
        "id": "ZTUGaBtGW1zL"
      },
      "source": [
        "### Top 10 most rated books"
      ]
    },
    {
      "cell_type": "code",
      "execution_count": 14,
      "metadata": {
        "colab": {
          "base_uri": "https://localhost:8080/",
          "height": 367
        },
        "id": "YGXRF4cuVwbO",
        "outputId": "981874aa-d5da-4c5f-fa68-2879317b2075"
      },
      "outputs": [
        {
          "name": "stdout",
          "output_type": "stream",
          "text": [
            "\n",
            "Top 10 most rated books:\n"
          ]
        },
        {
          "data": {
            "application/vnd.google.colaboratory.intrinsic+json": {
              "summary": "{\n  \"name\": \"top_books_titles\",\n  \"rows\": 9,\n  \"fields\": [\n    {\n      \"column\": \"ISBN\",\n      \"properties\": {\n        \"dtype\": \"string\",\n        \"num_unique_values\": 9,\n        \"samples\": [\n          \"0060928336\",\n          \"0671027360\",\n          \"0312195516\"\n        ],\n        \"semantic_type\": \"\",\n        \"description\": \"\"\n      }\n    },\n    {\n      \"column\": \"Book-Title\",\n      \"properties\": {\n        \"dtype\": \"string\",\n        \"num_unique_values\": 9,\n        \"samples\": [\n          \"Divine Secrets of the Ya-Ya Sisterhood: A Novel\",\n          \"Angels &amp; Demons\",\n          \"The Red Tent (Bestselling Backlist)\"\n        ],\n        \"semantic_type\": \"\",\n        \"description\": \"\"\n      }\n    },\n    {\n      \"column\": \"Book-Author\",\n      \"properties\": {\n        \"dtype\": \"string\",\n        \"num_unique_values\": 8,\n        \"samples\": [\n          \"Dan Brown\",\n          \"Anita Diamant\",\n          \"Rich Shapero\"\n        ],\n        \"semantic_type\": \"\",\n        \"description\": \"\"\n      }\n    }\n  ]\n}",
              "type": "dataframe",
              "variable_name": "top_books_titles"
            },
            "text/html": [
              "\n",
              "  <div id=\"df-2486dc46-0358-454f-924e-e2629b2835e9\" class=\"colab-df-container\">\n",
              "    <div>\n",
              "<style scoped>\n",
              "    .dataframe tbody tr th:only-of-type {\n",
              "        vertical-align: middle;\n",
              "    }\n",
              "\n",
              "    .dataframe tbody tr th {\n",
              "        vertical-align: top;\n",
              "    }\n",
              "\n",
              "    .dataframe thead th {\n",
              "        text-align: right;\n",
              "    }\n",
              "</style>\n",
              "<table border=\"1\" class=\"dataframe\">\n",
              "  <thead>\n",
              "    <tr style=\"text-align: right;\">\n",
              "      <th></th>\n",
              "      <th>ISBN</th>\n",
              "      <th>Book-Title</th>\n",
              "      <th>Book-Author</th>\n",
              "    </tr>\n",
              "  </thead>\n",
              "  <tbody>\n",
              "    <tr>\n",
              "      <th>26</th>\n",
              "      <td>0971880107</td>\n",
              "      <td>Wild Animus</td>\n",
              "      <td>Rich Shapero</td>\n",
              "    </tr>\n",
              "    <tr>\n",
              "      <th>118</th>\n",
              "      <td>0671027360</td>\n",
              "      <td>Angels &amp;amp; Demons</td>\n",
              "      <td>Dan Brown</td>\n",
              "    </tr>\n",
              "    <tr>\n",
              "      <th>305</th>\n",
              "      <td>044023722X</td>\n",
              "      <td>A Painted House</td>\n",
              "      <td>John Grisham</td>\n",
              "    </tr>\n",
              "    <tr>\n",
              "      <th>356</th>\n",
              "      <td>0142001740</td>\n",
              "      <td>The Secret Life of Bees</td>\n",
              "      <td>Sue Monk Kidd</td>\n",
              "    </tr>\n",
              "    <tr>\n",
              "      <th>408</th>\n",
              "      <td>0316666343</td>\n",
              "      <td>The Lovely Bones: A Novel</td>\n",
              "      <td>Alice Sebold</td>\n",
              "    </tr>\n",
              "    <tr>\n",
              "      <th>522</th>\n",
              "      <td>0312195516</td>\n",
              "      <td>The Red Tent (Bestselling Backlist)</td>\n",
              "      <td>Anita Diamant</td>\n",
              "    </tr>\n",
              "    <tr>\n",
              "      <th>748</th>\n",
              "      <td>0385504209</td>\n",
              "      <td>The Da Vinci Code</td>\n",
              "      <td>Dan Brown</td>\n",
              "    </tr>\n",
              "    <tr>\n",
              "      <th>1105</th>\n",
              "      <td>0060928336</td>\n",
              "      <td>Divine Secrets of the Ya-Ya Sisterhood: A Novel</td>\n",
              "      <td>Rebecca Wells</td>\n",
              "    </tr>\n",
              "    <tr>\n",
              "      <th>1922</th>\n",
              "      <td>067976402X</td>\n",
              "      <td>Snow Falling on Cedars</td>\n",
              "      <td>David Guterson</td>\n",
              "    </tr>\n",
              "  </tbody>\n",
              "</table>\n",
              "</div>\n",
              "    <div class=\"colab-df-buttons\">\n",
              "\n",
              "  <div class=\"colab-df-container\">\n",
              "    <button class=\"colab-df-convert\" onclick=\"convertToInteractive('df-2486dc46-0358-454f-924e-e2629b2835e9')\"\n",
              "            title=\"Convert this dataframe to an interactive table.\"\n",
              "            style=\"display:none;\">\n",
              "\n",
              "  <svg xmlns=\"http://www.w3.org/2000/svg\" height=\"24px\" viewBox=\"0 -960 960 960\">\n",
              "    <path d=\"M120-120v-720h720v720H120Zm60-500h600v-160H180v160Zm220 220h160v-160H400v160Zm0 220h160v-160H400v160ZM180-400h160v-160H180v160Zm440 0h160v-160H620v160ZM180-180h160v-160H180v160Zm440 0h160v-160H620v160Z\"/>\n",
              "  </svg>\n",
              "    </button>\n",
              "\n",
              "  <style>\n",
              "    .colab-df-container {\n",
              "      display:flex;\n",
              "      gap: 12px;\n",
              "    }\n",
              "\n",
              "    .colab-df-convert {\n",
              "      background-color: #E8F0FE;\n",
              "      border: none;\n",
              "      border-radius: 50%;\n",
              "      cursor: pointer;\n",
              "      display: none;\n",
              "      fill: #1967D2;\n",
              "      height: 32px;\n",
              "      padding: 0 0 0 0;\n",
              "      width: 32px;\n",
              "    }\n",
              "\n",
              "    .colab-df-convert:hover {\n",
              "      background-color: #E2EBFA;\n",
              "      box-shadow: 0px 1px 2px rgba(60, 64, 67, 0.3), 0px 1px 3px 1px rgba(60, 64, 67, 0.15);\n",
              "      fill: #174EA6;\n",
              "    }\n",
              "\n",
              "    .colab-df-buttons div {\n",
              "      margin-bottom: 4px;\n",
              "    }\n",
              "\n",
              "    [theme=dark] .colab-df-convert {\n",
              "      background-color: #3B4455;\n",
              "      fill: #D2E3FC;\n",
              "    }\n",
              "\n",
              "    [theme=dark] .colab-df-convert:hover {\n",
              "      background-color: #434B5C;\n",
              "      box-shadow: 0px 1px 3px 1px rgba(0, 0, 0, 0.15);\n",
              "      filter: drop-shadow(0px 1px 2px rgba(0, 0, 0, 0.3));\n",
              "      fill: #FFFFFF;\n",
              "    }\n",
              "  </style>\n",
              "\n",
              "    <script>\n",
              "      const buttonEl =\n",
              "        document.querySelector('#df-2486dc46-0358-454f-924e-e2629b2835e9 button.colab-df-convert');\n",
              "      buttonEl.style.display =\n",
              "        google.colab.kernel.accessAllowed ? 'block' : 'none';\n",
              "\n",
              "      async function convertToInteractive(key) {\n",
              "        const element = document.querySelector('#df-2486dc46-0358-454f-924e-e2629b2835e9');\n",
              "        const dataTable =\n",
              "          await google.colab.kernel.invokeFunction('convertToInteractive',\n",
              "                                                    [key], {});\n",
              "        if (!dataTable) return;\n",
              "\n",
              "        const docLinkHtml = 'Like what you see? Visit the ' +\n",
              "          '<a target=\"_blank\" href=https://colab.research.google.com/notebooks/data_table.ipynb>data table notebook</a>'\n",
              "          + ' to learn more about interactive tables.';\n",
              "        element.innerHTML = '';\n",
              "        dataTable['output_type'] = 'display_data';\n",
              "        await google.colab.output.renderOutput(dataTable, element);\n",
              "        const docLink = document.createElement('div');\n",
              "        docLink.innerHTML = docLinkHtml;\n",
              "        element.appendChild(docLink);\n",
              "      }\n",
              "    </script>\n",
              "  </div>\n",
              "\n",
              "\n",
              "<div id=\"df-31fd6f28-a060-43ba-b35c-ac0613f17c11\">\n",
              "  <button class=\"colab-df-quickchart\" onclick=\"quickchart('df-31fd6f28-a060-43ba-b35c-ac0613f17c11')\"\n",
              "            title=\"Suggest charts\"\n",
              "            style=\"display:none;\">\n",
              "\n",
              "<svg xmlns=\"http://www.w3.org/2000/svg\" height=\"24px\"viewBox=\"0 0 24 24\"\n",
              "     width=\"24px\">\n",
              "    <g>\n",
              "        <path d=\"M19 3H5c-1.1 0-2 .9-2 2v14c0 1.1.9 2 2 2h14c1.1 0 2-.9 2-2V5c0-1.1-.9-2-2-2zM9 17H7v-7h2v7zm4 0h-2V7h2v10zm4 0h-2v-4h2v4z\"/>\n",
              "    </g>\n",
              "</svg>\n",
              "  </button>\n",
              "\n",
              "<style>\n",
              "  .colab-df-quickchart {\n",
              "      --bg-color: #E8F0FE;\n",
              "      --fill-color: #1967D2;\n",
              "      --hover-bg-color: #E2EBFA;\n",
              "      --hover-fill-color: #174EA6;\n",
              "      --disabled-fill-color: #AAA;\n",
              "      --disabled-bg-color: #DDD;\n",
              "  }\n",
              "\n",
              "  [theme=dark] .colab-df-quickchart {\n",
              "      --bg-color: #3B4455;\n",
              "      --fill-color: #D2E3FC;\n",
              "      --hover-bg-color: #434B5C;\n",
              "      --hover-fill-color: #FFFFFF;\n",
              "      --disabled-bg-color: #3B4455;\n",
              "      --disabled-fill-color: #666;\n",
              "  }\n",
              "\n",
              "  .colab-df-quickchart {\n",
              "    background-color: var(--bg-color);\n",
              "    border: none;\n",
              "    border-radius: 50%;\n",
              "    cursor: pointer;\n",
              "    display: none;\n",
              "    fill: var(--fill-color);\n",
              "    height: 32px;\n",
              "    padding: 0;\n",
              "    width: 32px;\n",
              "  }\n",
              "\n",
              "  .colab-df-quickchart:hover {\n",
              "    background-color: var(--hover-bg-color);\n",
              "    box-shadow: 0 1px 2px rgba(60, 64, 67, 0.3), 0 1px 3px 1px rgba(60, 64, 67, 0.15);\n",
              "    fill: var(--button-hover-fill-color);\n",
              "  }\n",
              "\n",
              "  .colab-df-quickchart-complete:disabled,\n",
              "  .colab-df-quickchart-complete:disabled:hover {\n",
              "    background-color: var(--disabled-bg-color);\n",
              "    fill: var(--disabled-fill-color);\n",
              "    box-shadow: none;\n",
              "  }\n",
              "\n",
              "  .colab-df-spinner {\n",
              "    border: 2px solid var(--fill-color);\n",
              "    border-color: transparent;\n",
              "    border-bottom-color: var(--fill-color);\n",
              "    animation:\n",
              "      spin 1s steps(1) infinite;\n",
              "  }\n",
              "\n",
              "  @keyframes spin {\n",
              "    0% {\n",
              "      border-color: transparent;\n",
              "      border-bottom-color: var(--fill-color);\n",
              "      border-left-color: var(--fill-color);\n",
              "    }\n",
              "    20% {\n",
              "      border-color: transparent;\n",
              "      border-left-color: var(--fill-color);\n",
              "      border-top-color: var(--fill-color);\n",
              "    }\n",
              "    30% {\n",
              "      border-color: transparent;\n",
              "      border-left-color: var(--fill-color);\n",
              "      border-top-color: var(--fill-color);\n",
              "      border-right-color: var(--fill-color);\n",
              "    }\n",
              "    40% {\n",
              "      border-color: transparent;\n",
              "      border-right-color: var(--fill-color);\n",
              "      border-top-color: var(--fill-color);\n",
              "    }\n",
              "    60% {\n",
              "      border-color: transparent;\n",
              "      border-right-color: var(--fill-color);\n",
              "    }\n",
              "    80% {\n",
              "      border-color: transparent;\n",
              "      border-right-color: var(--fill-color);\n",
              "      border-bottom-color: var(--fill-color);\n",
              "    }\n",
              "    90% {\n",
              "      border-color: transparent;\n",
              "      border-bottom-color: var(--fill-color);\n",
              "    }\n",
              "  }\n",
              "</style>\n",
              "\n",
              "  <script>\n",
              "    async function quickchart(key) {\n",
              "      const quickchartButtonEl =\n",
              "        document.querySelector('#' + key + ' button');\n",
              "      quickchartButtonEl.disabled = true;  // To prevent multiple clicks.\n",
              "      quickchartButtonEl.classList.add('colab-df-spinner');\n",
              "      try {\n",
              "        const charts = await google.colab.kernel.invokeFunction(\n",
              "            'suggestCharts', [key], {});\n",
              "      } catch (error) {\n",
              "        console.error('Error during call to suggestCharts:', error);\n",
              "      }\n",
              "      quickchartButtonEl.classList.remove('colab-df-spinner');\n",
              "      quickchartButtonEl.classList.add('colab-df-quickchart-complete');\n",
              "    }\n",
              "    (() => {\n",
              "      let quickchartButtonEl =\n",
              "        document.querySelector('#df-31fd6f28-a060-43ba-b35c-ac0613f17c11 button');\n",
              "      quickchartButtonEl.style.display =\n",
              "        google.colab.kernel.accessAllowed ? 'block' : 'none';\n",
              "    })();\n",
              "  </script>\n",
              "</div>\n",
              "\n",
              "  <div id=\"id_9c6ed8c3-2b1f-4b24-a81e-1139030b8ae4\">\n",
              "    <style>\n",
              "      .colab-df-generate {\n",
              "        background-color: #E8F0FE;\n",
              "        border: none;\n",
              "        border-radius: 50%;\n",
              "        cursor: pointer;\n",
              "        display: none;\n",
              "        fill: #1967D2;\n",
              "        height: 32px;\n",
              "        padding: 0 0 0 0;\n",
              "        width: 32px;\n",
              "      }\n",
              "\n",
              "      .colab-df-generate:hover {\n",
              "        background-color: #E2EBFA;\n",
              "        box-shadow: 0px 1px 2px rgba(60, 64, 67, 0.3), 0px 1px 3px 1px rgba(60, 64, 67, 0.15);\n",
              "        fill: #174EA6;\n",
              "      }\n",
              "\n",
              "      [theme=dark] .colab-df-generate {\n",
              "        background-color: #3B4455;\n",
              "        fill: #D2E3FC;\n",
              "      }\n",
              "\n",
              "      [theme=dark] .colab-df-generate:hover {\n",
              "        background-color: #434B5C;\n",
              "        box-shadow: 0px 1px 3px 1px rgba(0, 0, 0, 0.15);\n",
              "        filter: drop-shadow(0px 1px 2px rgba(0, 0, 0, 0.3));\n",
              "        fill: #FFFFFF;\n",
              "      }\n",
              "    </style>\n",
              "    <button class=\"colab-df-generate\" onclick=\"generateWithVariable('top_books_titles')\"\n",
              "            title=\"Generate code using this dataframe.\"\n",
              "            style=\"display:none;\">\n",
              "\n",
              "  <svg xmlns=\"http://www.w3.org/2000/svg\" height=\"24px\"viewBox=\"0 0 24 24\"\n",
              "       width=\"24px\">\n",
              "    <path d=\"M7,19H8.4L18.45,9,17,7.55,7,17.6ZM5,21V16.75L18.45,3.32a2,2,0,0,1,2.83,0l1.4,1.43a1.91,1.91,0,0,1,.58,1.4,1.91,1.91,0,0,1-.58,1.4L9.25,21ZM18.45,9,17,7.55Zm-12,3A5.31,5.31,0,0,0,4.9,8.1,5.31,5.31,0,0,0,1,6.5,5.31,5.31,0,0,0,4.9,4.9,5.31,5.31,0,0,0,6.5,1,5.31,5.31,0,0,0,8.1,4.9,5.31,5.31,0,0,0,12,6.5,5.46,5.46,0,0,0,6.5,12Z\"/>\n",
              "  </svg>\n",
              "    </button>\n",
              "    <script>\n",
              "      (() => {\n",
              "      const buttonEl =\n",
              "        document.querySelector('#id_9c6ed8c3-2b1f-4b24-a81e-1139030b8ae4 button.colab-df-generate');\n",
              "      buttonEl.style.display =\n",
              "        google.colab.kernel.accessAllowed ? 'block' : 'none';\n",
              "\n",
              "      buttonEl.onclick = () => {\n",
              "        google.colab.notebook.generateWithVariable('top_books_titles');\n",
              "      }\n",
              "      })();\n",
              "    </script>\n",
              "  </div>\n",
              "\n",
              "    </div>\n",
              "  </div>\n"
            ],
            "text/plain": [
              "            ISBN                                       Book-Title  \\\n",
              "26    0971880107                                      Wild Animus   \n",
              "118   0671027360                              Angels &amp; Demons   \n",
              "305   044023722X                                  A Painted House   \n",
              "356   0142001740                          The Secret Life of Bees   \n",
              "408   0316666343                        The Lovely Bones: A Novel   \n",
              "522   0312195516              The Red Tent (Bestselling Backlist)   \n",
              "748   0385504209                                The Da Vinci Code   \n",
              "1105  0060928336  Divine Secrets of the Ya-Ya Sisterhood: A Novel   \n",
              "1922  067976402X                           Snow Falling on Cedars   \n",
              "\n",
              "         Book-Author  \n",
              "26      Rich Shapero  \n",
              "118        Dan Brown  \n",
              "305     John Grisham  \n",
              "356    Sue Monk Kidd  \n",
              "408     Alice Sebold  \n",
              "522    Anita Diamant  \n",
              "748        Dan Brown  \n",
              "1105   Rebecca Wells  \n",
              "1922  David Guterson  "
            ]
          },
          "metadata": {},
          "output_type": "display_data"
        }
      ],
      "source": [
        "top_books = book_popularity.head(10).index.tolist()\n",
        "top_books_titles = books_df[books_df['ISBN'].isin(top_books)][['ISBN', 'Book-Title', 'Book-Author']]\n",
        "print(\"\\nTop 10 most rated books:\")\n",
        "display(top_books_titles)"
      ]
    },
    {
      "cell_type": "markdown",
      "metadata": {
        "id": "OvrxnM02W6xE"
      },
      "source": [
        "### User-item matrix"
      ]
    },
    {
      "cell_type": "code",
      "execution_count": 15,
      "metadata": {
        "colab": {
          "base_uri": "https://localhost:8080/"
        },
        "id": "TBxuvnxTV3De",
        "outputId": "148f5950-d3c1-4272-e51a-76bafc83d051"
      },
      "outputs": [
        {
          "name": "stdout",
          "output_type": "stream",
          "text": [
            "Number of unique users: 105283\n",
            "Number of unique books: 340556\n",
            "Number of ratings: 1149780\n",
            "Matrix density: 0.0032%\n",
            "Matrix sparsity: 99.9968%\n"
          ]
        }
      ],
      "source": [
        "# Calculate the sparsity of the user-item matrix\n",
        "n_users = ratings_df['User-ID'].nunique()\n",
        "n_books = ratings_df['ISBN'].nunique()\n",
        "density = len(ratings_df) / (n_users * n_books) * 100\n",
        "\n",
        "print(f\"Number of unique users: {n_users}\")\n",
        "print(f\"Number of unique books: {n_books}\")\n",
        "print(f\"Number of ratings: {len(ratings_df)}\")\n",
        "print(f\"Matrix density: {density:.4f}%\")\n",
        "print(f\"Matrix sparsity: {100-density:.4f}%\")"
      ]
    },
    {
      "cell_type": "markdown",
      "metadata": {
        "id": "UeIahE7UYGDu"
      },
      "source": [
        "### Explicit & Implicit feedback"
      ]
    },
    {
      "cell_type": "code",
      "execution_count": 16,
      "metadata": {
        "colab": {
          "base_uri": "https://localhost:8080/",
          "height": 662
        },
        "id": "0DjxEq_pWL25",
        "outputId": "9c5bd74f-1422-4836-f392-cc588b831e55"
      },
      "outputs": [
        {
          "name": "stdout",
          "output_type": "stream",
          "text": [
            "Explicit feedback dataset shape: (433671, 3)\n",
            "Implicit feedback dataset shape: (1149780, 4)\n",
            "\n"
          ]
        },
        {
          "data": {
            "image/png": "[encoded data removed]",
            "text/plain": [
              "<Figure size 1000x600 with 1 Axes>"
            ]
          },
          "metadata": {},
          "output_type": "display_data"
        },
        {
          "name": "stdout",
          "output_type": "stream",
          "text": [
            "\n",
            "Average explicit rating: 7.60\n"
          ]
        }
      ],
      "source": [
        "# Create explicit feedback view (ratings > 0)\n",
        "explicit_df = ratings_df[ratings_df['Book-Rating'] > 0].copy()\n",
        "print(f\"Explicit feedback dataset shape: {explicit_df.shape}\")\n",
        "\n",
        "# Create implicit feedback view (convert all ratings to 1 to indicate interaction)\n",
        "implicit_df = ratings_df.copy()\n",
        "implicit_df['Interaction'] = 1\n",
        "print(f\"Implicit feedback dataset shape: {implicit_df.shape}\\n\")\n",
        "\n",
        "# Analyze the distribution of explicit ratings\n",
        "plt.figure(figsize=(10, 6))\n",
        "sns.countplot(data=explicit_df, x='Book-Rating')\n",
        "plt.title('Distribution of Explicit Ratings (1-10)')\n",
        "plt.xlabel('Rating')\n",
        "plt.ylabel('Count')\n",
        "plt.show()\n",
        "\n",
        "print(f\"\\nAverage explicit rating: {explicit_df['Book-Rating'].mean():.2f}\")"
      ]
    },
    {
      "cell_type": "markdown",
      "metadata": {
        "id": "igZ6uj-VXWaa"
      },
      "source": [
        "### Summary"
      ]
    },
    {
      "cell_type": "code",
      "execution_count": 17,
      "metadata": {
        "colab": {
          "base_uri": "https://localhost:8080/"
        },
        "id": "0Cb8Jd5sWPwu",
        "outputId": "c9618433-a750-4617-abaa-b54f078bee55"
      },
      "outputs": [
        {
          "name": "stdout",
          "output_type": "stream",
          "text": [
            "Key Dataset Insights:\n",
            "- Total number of ratings: 1,149,780\n",
            "- Number of unique users: 105,283\n",
            "- Number of unique books: 340,556\n",
            "- Matrix sparsity: 99.9968%\n",
            "- Percentage of implicit ratings (0): 62.28%\n",
            "- Average explicit rating: 7.60\n",
            "- Most active user rated 13602 books\n",
            "- Most popular book has 2502 ratings\n"
          ]
        }
      ],
      "source": [
        "print(\"Key Dataset Insights:\")\n",
        "print(f\"- Total number of ratings: {len(ratings_df):,}\")\n",
        "print(f\"- Number of unique users: {n_users:,}\")\n",
        "print(f\"- Number of unique books: {n_books:,}\")\n",
        "print(f\"- Matrix sparsity: {100-density:.4f}%\")\n",
        "print(f\"- Percentage of implicit ratings (0): {implicit_count/total_ratings*100:.2f}%\")\n",
        "print(f\"- Average explicit rating: {explicit_df['Book-Rating'].mean():.2f}\")\n",
        "print(f\"- Most active user rated {user_activity.max()} books\")\n",
        "print(f\"- Most popular book has {book_popularity.max()} ratings\")"
      ]
    },
    {
      "cell_type": "markdown",
      "metadata": {
        "id": "89HsyHBqaodh"
      },
      "source": [
        "## Test/Train Split"
      ]
    },
    {
      "cell_type": "code",
      "execution_count": 18,
      "metadata": {
        "id": "ZQJQwrclcJxG"
      },
      "outputs": [],
      "source": [
        "# Define reader for explicit feedback (ratings 1-10)\n",
        "explicit_reader = Reader(rating_scale=(1, 10))\n",
        "explicit_data = Dataset.load_from_df(explicit_df[['User-ID', 'ISBN', 'Book-Rating']], explicit_reader)\n",
        "\n",
        "# Define reader for implicit feedback (all interactions = 1)\n",
        "implicit_reader = Reader(rating_scale=(1, 1))\n",
        "implicit_df_for_surprise = implicit_df[['User-ID', 'ISBN', 'Interaction']].rename(columns={'Interaction': 'Rating'})\n",
        "implicit_data = Dataset.load_from_df(implicit_df_for_surprise[['User-ID', 'ISBN', 'Rating']], implicit_reader)\n",
        "\n",
        "# Split data\n",
        "explicit_trainset, explicit_testset = train_test_split(explicit_data, test_size=0.2, random_state=my_seed)\n",
        "implicit_trainset, implicit_testset = train_test_split(implicit_data, test_size=0.2, random_state=my_seed)"
      ]
    },
    {
      "cell_type": "markdown",
      "metadata": {
        "id": "BLTTAkZbYcCR"
      },
      "source": [
        "## Recommenders"
      ]
    },
    {
      "cell_type": "markdown",
      "metadata": {
        "id": "4WzsCx8TlEig"
      },
      "source": [
        "### Random"
      ]
    },
    {
      "cell_type": "code",
      "execution_count": 19,
      "metadata": {
        "id": "VDZckV96iH3T"
      },
      "outputs": [],
      "source": [
        "class MyRandomRecommender(AlgoBase):\n",
        "    \"\"\"\n",
        "    Random recommender based on the normal distribution of ratings.\n",
        "    \"\"\"\n",
        "\n",
        "    def __init__(self):\n",
        "        AlgoBase.__init__(self)\n",
        "\n",
        "    def estimate(self, u, i):\n",
        "        \"\"\"\n",
        "        Predict a random rating from the normal distribution.\n",
        "        Note: u and i are not used as this is non-personalized.\n",
        "        \"\"\"\n",
        "        return np.random.normal(loc=self.train_mean, scale=self.train_std)\n",
        "\n",
        "    def fit(self, trainset):\n",
        "        \"\"\"\n",
        "        Train the algorithm on the trainset.\n",
        "        \"\"\"\n",
        "        AlgoBase.fit(self, trainset)\n",
        "\n",
        "        # Calculate mean and standard deviation of all ratings\n",
        "        ratings = [r for (_, _, r) in self.trainset.all_ratings()]\n",
        "        self.train_mean = np.mean(ratings)\n",
        "        self.train_std = np.std(ratings)\n",
        "\n",
        "        return self\n",
        "\n",
        "\n",
        "random_RS = MyRandomRecommender()"
      ]
    },
    {
      "cell_type": "markdown",
      "metadata": {
        "id": "t8qBkdfmlGN1"
      },
      "source": [
        "### Popular"
      ]
    },
    {
      "cell_type": "code",
      "execution_count": 20,
      "metadata": {
        "id": "5brI5s87lHbi"
      },
      "outputs": [],
      "source": [
        "class MyPopularRecommender(AlgoBase):\n",
        "    \"\"\"\n",
        "    Popularity-based recommender that predicts the average rating for each item.\n",
        "    \"\"\"\n",
        "\n",
        "    def __init__(self):\n",
        "        AlgoBase.__init__(self)\n",
        "\n",
        "    def estimate(self, u, i):\n",
        "        \"\"\"\n",
        "        Predict the average rating for item i.\n",
        "        Note: u is not used as this is non-personalized.\n",
        "        \"\"\"\n",
        "        # Convert internal item id to raw item id\n",
        "        try:\n",
        "            raw_iid = self.trainset.to_raw_iid(i)\n",
        "        except ValueError:\n",
        "            # If item not in training set, return global mean\n",
        "            return self.trainset.global_mean\n",
        "\n",
        "        if raw_iid in self.mean_rating_per_item_df.index:\n",
        "            return self.mean_rating_per_item_df.loc[raw_iid]['rating']\n",
        "        else:\n",
        "            # For items not in training set, return global mean\n",
        "            return self.trainset.global_mean\n",
        "\n",
        "    def fit(self, trainset):\n",
        "        \"\"\"\n",
        "        Train the algorithm on the trainset.\n",
        "        \"\"\"\n",
        "        AlgoBase.fit(self, trainset)\n",
        "\n",
        "        # Convert internal ids to raw ids for better readability\n",
        "        ratings_list = [(self.trainset.to_raw_iid(i), r) for (_, i, r) in self.trainset.all_ratings()]\n",
        "\n",
        "        # Create DataFrame of all ratings\n",
        "        ratings_df = pd.DataFrame(ratings_list, columns=['item', 'rating'])\n",
        "\n",
        "        # Calculate mean rating per item\n",
        "        self.mean_rating_per_item_df = (ratings_df\n",
        "            .groupby('item')\n",
        "            .agg({'rating': 'mean'})\n",
        "        )\n",
        "\n",
        "        return self\n",
        "\n",
        "\n",
        "\n",
        "popular_RS = MyPopularRecommender()"
      ]
    },
    {
      "cell_type": "markdown",
      "metadata": {
        "id": "FnZ6ReOflS9E"
      },
      "source": [
        "### Collaborative Filtering (SVD)"
      ]
    },
    {
      "cell_type": "code",
      "execution_count": 21,
      "metadata": {
        "id": "Fqlo61JFlLj0"
      },
      "outputs": [],
      "source": [
        "cf_RS = SVD(random_state=my_seed)"
      ]
    },
    {
      "cell_type": "markdown",
      "metadata": {
        "id": "C_Wbmdmu96Yw"
      },
      "source": [
        "### Bayesian Average Popular Recommender"
      ]
    },
    {
      "cell_type": "code",
      "execution_count": null,
      "metadata": {
        "id": "SqFatZyn4ijf"
      },
      "outputs": [],
      "source": [
        "class BayesianPopularityRecommender(AlgoBase):\n",
        "    \"\"\"\n",
        "    Bayesian average popularity-based recommender that adjusts for item uncertainty.\n",
        "    Items with few ratings are pulled toward the global mean.\n",
        "    \"\"\"\n",
        "\n",
        "    def __init__(self, prior_weight=10):\n",
        "        AlgoBase.__init__(self)\n",
        "        self.prior_weight = prior_weight  # C parameter\n",
        "\n",
        "    def estimate(self, u, i):\n",
        "        \"\"\"\n",
        "        Predict the Bayesian average rating for item i.\n",
        "        Note: u is not used as this is non-personalized.\n",
        "        \"\"\"\n",
        "        # Handle unknown items\n",
        "        try:\n",
        "            # Try to convert internal item id to raw item id\n",
        "            raw_iid = self.trainset.to_raw_iid(i)\n",
        "\n",
        "            # Check if we have a Bayesian average for this item\n",
        "            if raw_iid in self.bayesian_average_df.index:\n",
        "                return self.bayesian_average_df.loc[raw_iid]['bayesian_average']\n",
        "            else:\n",
        "                # Item exists in training set but has no Bayesian average\n",
        "                return self.trainset.global_mean\n",
        "\n",
        "        except ValueError:\n",
        "            # Item not in training set at all (unknown item)\n",
        "            return self.trainset.global_mean\n",
        "\n",
        "    def fit(self, trainset):\n",
        "        \"\"\"\n",
        "        Train the algorithm on the trainset.\n",
        "        \"\"\"\n",
        "        AlgoBase.fit(self, trainset)\n",
        "\n",
        "        # Convert internal ids to raw ids for better readability\n",
        "        ratings_list = [(self.trainset.to_raw_iid(i), r) for (_, i, r) in self.trainset.all_ratings()]\n",
        "\n",
        "        ratings_df = pd.DataFrame(ratings_list, columns=['item', 'rating'])\n",
        "\n",
        "        item_stats = ratings_df.groupby('item').agg({\n",
        "            'rating': ['count', 'sum', 'mean']\n",
        "        })\n",
        "\n",
        "        # Flatten multi-level columns\n",
        "        item_stats.columns = ['count', 'sum', 'mean']\n",
        "\n",
        "        global_mean = ratings_df['rating'].mean()\n",
        "\n",
        "        # Apply Bayesian average formula: (C * M + sum of ratings) / (C + number of ratings)\n",
        "        item_stats['bayesian_average'] = (\n",
        "            (self.prior_weight * global_mean + item_stats['sum']) /\n",
        "            (self.prior_weight + item_stats['count'])\n",
        "        )\n",
        "\n",
        "        self.bayesian_average_df = item_stats\n",
        "\n",
        "        return self\n",
        "\n",
        "bayesian_popular_RS = BayesianPopularityRecommender()"
      ]
    },
    {
      "cell_type": "markdown",
      "metadata": {
        "id": "ikkppB2vhRUM"
      },
      "source": [
        "## Evaluation"
      ]
    },
    {
      "cell_type": "markdown",
      "metadata": {
        "id": "leNfERmJu3UF"
      },
      "source": [
        "### Test RMSE"
      ]
    },
    {
      "cell_type": "code",
      "execution_count": 22,
      "metadata": {
        "colab": {
          "base_uri": "https://localhost:8080/"
        },
        "id": "bzdrsNidtc2F",
        "outputId": "76e1dcb0-3216-46cc-b642-550b5705b2ac"
      },
      "outputs": [
        {
          "name": "stdout",
          "output_type": "stream",
          "text": [
            "RMSE: 2.4995\n"
          ]
        }
      ],
      "source": [
        "random_RS.fit(explicit_trainset);\n",
        "predictions_random = random_RS.test(explicit_testset)\n",
        "accuracy.rmse(predictions_random, verbose=True);"
      ]
    },
    {
      "cell_type": "code",
      "execution_count": 23,
      "metadata": {
        "colab": {
          "base_uri": "https://localhost:8080/"
        },
        "id": "nN4HhMNstewH",
        "outputId": "3d0e83b6-38f3-440d-e177-e456b6369d13"
      },
      "outputs": [
        {
          "name": "stdout",
          "output_type": "stream",
          "text": [
            "RMSE: 1.9458\n"
          ]
        }
      ],
      "source": [
        "popular_RS.fit(explicit_trainset);\n",
        "predictions_popular = popular_RS.test(explicit_testset)\n",
        "accuracy.rmse(predictions_popular, verbose=True);"
      ]
    },
    {
      "cell_type": "code",
      "execution_count": 24,
      "metadata": {
        "colab": {
          "base_uri": "https://localhost:8080/"
        },
        "id": "f2mIwP8MterE",
        "outputId": "70ddcd71-9634-4e7d-f3d4-fdf120088b8b"
      },
      "outputs": [
        {
          "name": "stdout",
          "output_type": "stream",
          "text": [
            "RMSE: 1.6392\n"
          ]
        }
      ],
      "source": [
        "cf_RS.fit(explicit_trainset);\n",
        "predictions_cf = cf_RS.test(explicit_testset)\n",
        "accuracy.rmse(predictions_cf, verbose=True);"
      ]
    },
    {
      "cell_type": "code",
      "execution_count": 55,
      "metadata": {
        "colab": {
          "base_uri": "https://localhost:8080/"
        },
        "id": "ANpPFdwJAAcS",
        "outputId": "39b3bc8f-92e5-430e-e0ef-fc92d29943da"
      },
      "outputs": [
        {
          "name": "stdout",
          "output_type": "stream",
          "text": [
            "RMSE: 1.8110\n"
          ]
        }
      ],
      "source": [
        "bayesian_popular_RS.fit(explicit_trainset);\n",
        "predictions_bp = bayesian_popular_RS.test(explicit_testset)\n",
        "accuracy.rmse(predictions_bp, verbose=True);"
      ]
    },
    {
      "cell_type": "code",
      "execution_count": null,
      "metadata": {
        "colab": {
          "base_uri": "https://localhost:8080/",
          "height": 804
        },
        "id": "Ol5jPaidvJyC",
        "outputId": "5452e08c-2a94-4ca2-97b3-2776111ff3c8"
      },
      "outputs": [
        {
          "data": {
            "image/png": "[encoded data removed]",
            "text/plain": [
              "<Figure size 2000x900 with 1 Axes>"
            ]
          },
          "metadata": {},
          "output_type": "display_data"
        }
      ],
      "source": [
        "def get_ratings_df(predictions):\n",
        "    ratings = []\n",
        "    for pred in predictions:\n",
        "        ratings.append({'uid': pred.uid, 'iid': pred.iid, 'r_ui': pred.r_ui, 'est': pred.est, 'details': pred.details})\n",
        "    return pd.DataFrame(ratings)\n",
        "\n",
        "random_ratings_df = get_ratings_df(predictions_random)\n",
        "popular_ratings_df = get_ratings_df(predictions_popular)\n",
        "cf_ratings_df = get_ratings_df(predictions_cf)\n",
        "bp_ratings_df = get_ratings_df(predictions_bp)\n",
        "\n",
        "# Combine all ratings into a single dataframe for easier plotting\n",
        "all_ratings = pd.concat([random_ratings_df.assign(RS='Random'),\n",
        "                         popular_ratings_df.assign(RS='Popular'),\n",
        "                         cf_ratings_df.assign(RS='Collaborative Filtering'),\n",
        "                         bp_ratings_df.assign(RS='Bayesian Popularity')\n",
        "                         ])\n",
        "\n",
        "\n",
        "plt.figure(figsize=(20, 9))\n",
        "sns.violinplot(x='RS', y='est', data=all_ratings)\n",
        "plt.title('Estimated Ratings')\n",
        "plt.xlabel('Recommender System')\n",
        "plt.ylabel('Estimated Rating')\n",
        "plt.show()\n"
      ]
    },
    {
      "cell_type": "markdown",
      "metadata": {
        "id": "K3UxcmQgvxO0"
      },
      "source": [
        "### Cross Validation - Explicit Feedback"
      ]
    },
    {
      "cell_type": "code",
      "execution_count": 26,
      "metadata": {
        "id": "C_bU8H5Rx2-y"
      },
      "outputs": [],
      "source": [
        "metrics = ['RMSE', 'MAE']\n",
        "n_folds = 5"
      ]
    },
    {
      "cell_type": "code",
      "execution_count": null,
      "metadata": {
        "colab": {
          "base_uri": "https://localhost:8080/"
        },
        "id": "bbmvsYu_x9kB",
        "outputId": "2bdfc54a-9e98-4793-d0f1-1a4eab344c9f"
      },
      "outputs": [
        {
          "name": "stdout",
          "output_type": "stream",
          "text": [
            "Evaluating recommenders on explicit feedback data...\n",
            "\n",
            "Evaluating Random Recommender...\n",
            "Evaluating RMSE, MAE of algorithm MyRandomRecommender on 5 split(s).\n",
            "\n",
            "                  Fold 1  Fold 2  Fold 3  Fold 4  Fold 5  Mean    Std     \n",
            "RMSE (testset)    2.5149  2.5072  2.5093  2.5109  2.5056  2.5096  0.0032  \n",
            "MAE (testset)     2.0068  1.9972  2.0023  2.0041  2.0006  2.0022  0.0032  \n",
            "Fit time          0.50    0.57    0.50    0.50    0.59    0.53    0.04    \n",
            "Test time         0.43    0.80    0.54    0.50    0.73    0.60    0.14    \n",
            "Evaluation completed in 19.58 seconds\n",
            "\n",
            "Evaluating Popularity Recommender...\n",
            "Evaluating RMSE, MAE of algorithm MyPopularRecommender on 5 split(s).\n",
            "\n",
            "                  Fold 1  Fold 2  Fold 3  Fold 4  Fold 5  Mean    Std     \n",
            "RMSE (testset)    1.9513  1.9338  1.9457  1.9506  1.9477  1.9458  0.0063  \n",
            "MAE (testset)     1.5383  1.5235  1.5339  1.5346  1.5339  1.5328  0.0050  \n",
            "Fit time          1.28    1.29    1.25    1.26    1.27    1.27    0.01    \n",
            "Test time         2.53    3.11    2.45    3.15    2.37    2.72    0.34    \n",
            "Evaluation completed in 31.62 seconds\n",
            "\n",
            "Evaluating Collaborative Filtering (SVD)...\n",
            "Evaluating RMSE, MAE of algorithm SVD on 5 split(s).\n",
            "\n",
            "                  Fold 1  Fold 2  Fold 3  Fold 4  Fold 5  Mean    Std     \n",
            "RMSE (testset)    1.6445  1.6432  1.6393  1.6368  1.6474  1.6422  0.0038  \n",
            "MAE (testset)     1.2702  1.2681  1.2656  1.2617  1.2700  1.2671  0.0032  \n",
            "Fit time          11.24   10.50   11.74   9.83    12.71   11.20   1.00    \n",
            "Test time         0.68    0.58    0.82    0.86    0.65    0.72    0.10    \n",
            "Evaluation completed in 73.12 seconds\n",
            "\n",
            "Evaluating Bayesian Average Popular Recommender...\n",
            "Evaluating RMSE, MAE of algorithm BayesianPopularityRecommender on 5 split(s).\n",
            "\n",
            "                  Fold 1  Fold 2  Fold 3  Fold 4  Fold 5  Mean    Std     \n",
            "RMSE (testset)    1.8160  1.8094  1.8094  1.8178  1.8165  1.8138  0.0037  \n",
            "MAE (testset)     1.4568  1.4532  1.4526  1.4617  1.4595  1.4568  0.0035  \n",
            "Fit time          1.22    1.37    1.82    1.26    1.20    1.37    0.23    \n",
            "Test time         6.37    3.62    3.71    4.92    3.62    4.45    1.08    \n",
            "Evaluation completed in 42.25 seconds\n"
          ]
        }
      ],
      "source": [
        "print(\"Evaluating recommenders on explicit feedback data...\")\n",
        "\n",
        "explicit_results = {}\n",
        "\n",
        "# Random Recommender\n",
        "print(\"\\nEvaluating Random Recommender...\")\n",
        "start_time = time.time()\n",
        "explicit_results['Random'] = cross_validate(random_RS, explicit_data,\n",
        "                                           measures=metrics,\n",
        "                                           cv=n_folds,\n",
        "                                           verbose=True,\n",
        "                                           return_train_measures=False)\n",
        "print(f\"Evaluation completed in {time.time() - start_time:.2f} seconds\")\n",
        "\n",
        "# Popularity-based Recommender\n",
        "print(\"\\nEvaluating Popularity Recommender...\")\n",
        "start_time = time.time()\n",
        "explicit_results['Popularity'] = cross_validate(popular_RS, explicit_data,\n",
        "                                               measures=metrics,\n",
        "                                               cv=n_folds,\n",
        "                                               verbose=True,\n",
        "                                               return_train_measures=False)\n",
        "print(f\"Evaluation completed in {time.time() - start_time:.2f} seconds\")\n",
        "\n",
        "# Collaborative Filtering (SVD as baseline)\n",
        "print(\"\\nEvaluating Collaborative Filtering (SVD)...\")\n",
        "start_time = time.time()\n",
        "explicit_results['SVD'] = cross_validate(cf_RS, explicit_data,\n",
        "                                        measures=metrics,\n",
        "                                        cv=n_folds,\n",
        "                                        verbose=True,\n",
        "                                        return_train_measures=False)\n",
        "print(f\"Evaluation completed in {time.time() - start_time:.2f} seconds\")\n",
        "\n",
        "# Bayesian Average Popular Recommender\n",
        "print(\"\\nEvaluating Bayesian Average Popular Recommender...\")\n",
        "start_time = time.time()\n",
        "explicit_results['Bayesian Popularity'] = cross_validate(bayesian_popular_RS, explicit_data,\n",
        "                                                           measures=metrics,\n",
        "                                                           cv=n_folds,\n",
        "                                                           verbose=True,\n",
        "                                                           return_train_measures=False)\n",
        "print(f\"Evaluation completed in {time.time() - start_time:.2f} seconds\")"
      ]
    },
    {
      "cell_type": "code",
      "execution_count": null,
      "metadata": {
        "colab": {
          "base_uri": "https://localhost:8080/"
        },
        "id": "VQ6PGvZDx-u5",
        "outputId": "edcfae75-2cf0-406b-bbb6-76a51a259741"
      },
      "outputs": [
        {
          "name": "stdout",
          "output_type": "stream",
          "text": [
            "                     RMSE_mean  RMSE_std  MAE_mean   MAE_std\n",
            "SVD                   1.642220  0.003760  1.267121  0.003174\n",
            "Bayesian Popularity   1.813816  0.003658  1.456758  0.003537\n",
            "Popularity            1.945828  0.006334  1.532832  0.004963\n",
            "Random                2.509583  0.003216  2.002180  0.003242\n"
          ]
        }
      ],
      "source": [
        "explicit_comparison = pd.DataFrame(columns=['RMSE_mean', 'RMSE_std', 'MAE_mean', 'MAE_std'])\n",
        "\n",
        "for name, result in explicit_results.items():\n",
        "    explicit_comparison.loc[name] = [\n",
        "        result['test_rmse'].mean(),\n",
        "        result['test_rmse'].std(),\n",
        "        result['test_mae'].mean(),\n",
        "        result['test_mae'].std()\n",
        "    ]\n",
        "\n",
        "explicit_comparison = explicit_comparison.sort_values('RMSE_mean')\n",
        "print(explicit_comparison)"
      ]
    },
    {
      "cell_type": "code",
      "execution_count": null,
      "metadata": {
        "colab": {
          "base_uri": "https://localhost:8080/",
          "height": 601
        },
        "id": "sYK1UcLXyDNS",
        "outputId": "37de5776-e932-4fab-91e3-4df33df0e1eb"
      },
      "outputs": [
        {
          "data": {
            "image/png": "[encoded data removed]",
            "text/plain": [
              "<Figure size 1200x600 with 2 Axes>"
            ]
          },
          "metadata": {},
          "output_type": "display_data"
        }
      ],
      "source": [
        "# Comparing RMSE and MAE\n",
        "plt.figure(figsize=(12, 6))\n",
        "\n",
        "plt.subplot(1, 2, 1)\n",
        "colors = ['#1f77b4', '#ff7f0e', '#2ca02c', '#d62728']\n",
        "bars = plt.bar(explicit_comparison.index, explicit_comparison['RMSE_mean'], yerr=explicit_comparison['RMSE_std'],\n",
        "       capsize=7, color=colors)\n",
        "\n",
        "for bar, value in zip(bars, explicit_comparison['RMSE_mean']):\n",
        "    plt.text(bar.get_x() + bar.get_width()/2, bar.get_height() + 0.02,\n",
        "             f'{value:.3f}', ha='center', va='bottom', fontweight='bold')\n",
        "\n",
        "plt.title('RMSE Comparison (lower is better)')\n",
        "plt.ylabel('RMSE')\n",
        "plt.ylim(0, explicit_comparison['RMSE_mean'].max() * 1.2)\n",
        "plt.grid(axis='y', linestyle='--', alpha=0.7)\n",
        "\n",
        "# Plot MAE\n",
        "plt.subplot(1, 2, 2)\n",
        "bars = plt.bar(explicit_comparison.index, explicit_comparison['MAE_mean'], yerr=explicit_comparison['MAE_std'],\n",
        "       capsize=7, color=colors)\n",
        "\n",
        "# Add values on top of bars\n",
        "for bar, value in zip(bars, explicit_comparison['MAE_mean']):\n",
        "    plt.text(bar.get_x() + bar.get_width()/2, bar.get_height() + 0.02,\n",
        "             f'{value:.3f}', ha='center', va='bottom', fontweight='bold')\n",
        "\n",
        "plt.title('MAE Comparison (lower is better)')\n",
        "plt.ylabel('MAE')\n",
        "plt.ylim(0, explicit_comparison['MAE_mean'].max() * 1.2)\n",
        "plt.grid(axis='y', linestyle='--', alpha=0.7)\n",
        "\n",
        "plt.tight_layout()\n",
        "plt.savefig('explicit_feedback_comparison.png', dpi=300, bbox_inches='tight')\n",
        "plt.show()"
      ]
    },
    {
      "cell_type": "markdown",
      "metadata": {
        "id": "Yfnp2V5P2l8-"
      },
      "source": [
        "#### **Results**\n",
        "\n",
        "The results of the cross validation align perfectly with theoretical expectations: CF with SVD far outperforms both Popular and, of course, Random as well. The substantial 34.4% improvement in RMSE from Random to SVD show the inherent potential of personalization. That said, this accuracy comes with computational costs, as SVD requires much more processing time (10.20s vs 1.51s for Popularity and 0.81s for Random).\n",
        "\n",
        "Therefore, deciding which model to implement is not as straightforward as simply choosing the one with the best performance metric: for applications with limited compute or frequent cold-starts, a Popular recommender offers a good balance of performance and efficiency, while CF approaches should be deployed when performance is key above all else and sufficient user interaction data is available.\n",
        "\n",
        "Regarding the Bayesian approach, it will take into a count not only the rating itself, but also the number of ratings for each item. Thus, it will \"smooth out\" extreme ratings on books with limited feedback, which translates to more stable recommendations that are less susceptible to statistical anomalies."
      ]
    },
    {
      "cell_type": "markdown",
      "metadata": {
        "id": "oJevTuDp93WO"
      },
      "source": [
        "# Extra"
      ]
    },
    {
      "cell_type": "markdown",
      "metadata": {
        "id": "E20eV5VR-Ajz"
      },
      "source": [
        "## Stratified Per-User Evaluation"
      ]
    },
    {
      "cell_type": "code",
      "execution_count": null,
      "metadata": {
        "id": "35g6rGaM99PW"
      },
      "outputs": [],
      "source": [
        "def stratified_per_user_evaluate(algo, testset, measures=['rmse', 'mae']):\n",
        "    \"\"\"\n",
        "    Evaluates recommender algorithms with metrics calculated per user.\n",
        "    Each user contributes equally to the final metrics regardless of rating count.\n",
        "\n",
        "    Parameters:\n",
        "    -----------\n",
        "    algo : AlgoBase\n",
        "        Trained recommender algorithm\n",
        "    testset : list\n",
        "        List of (user, item, rating) tuples to test on\n",
        "    measures : list\n",
        "        List of metrics to compute\n",
        "\n",
        "    Returns:\n",
        "    --------\n",
        "    dict\n",
        "        Dictionary of metric results\n",
        "    \"\"\"\n",
        "    predictions = algo.test(testset)\n",
        "\n",
        "    # Group predictions by user\n",
        "    user_predictions = defaultdict(list)\n",
        "    for uid, _, true_r, est, _ in predictions:\n",
        "        user_predictions[uid].append((true_r, est))\n",
        "\n",
        "    user_metrics = defaultdict(dict)\n",
        "\n",
        "    for uid, user_preds in user_predictions.items():\n",
        "        # Skip users with too few ratings for meaningful metrics\n",
        "        if len(user_preds) < 2:\n",
        "            continue\n",
        "\n",
        "        true_ratings = np.array([true_r for true_r, _ in user_preds])\n",
        "        estimated_ratings = np.array([est for _, est in user_preds])\n",
        "\n",
        "        if 'rmse' in measures:\n",
        "            user_metrics[uid]['rmse'] = np.sqrt(np.mean((true_ratings - estimated_ratings) ** 2))\n",
        "\n",
        "        if 'mae' in measures:\n",
        "            user_metrics[uid]['mae'] = np.mean(np.abs(true_ratings - estimated_ratings))\n",
        "\n",
        "    # Average metrics across users\n",
        "    results = {}\n",
        "    for measure in measures:\n",
        "        user_values = [metrics[measure] for uid, metrics in user_metrics.items()\n",
        "                      if measure in metrics]\n",
        "        if user_values:\n",
        "            results[measure] = np.mean(user_values)\n",
        "            results[f'{measure}_std'] = np.std(user_values)\n",
        "            results[f'{measure}_users'] = len(user_values)\n",
        "        else:\n",
        "            results[measure] = float('nan')\n",
        "            results[f'{measure}_std'] = float('nan')\n",
        "            results[f'{measure}_users'] = 0\n",
        "\n",
        "    return results"
      ]
    },
    {
      "cell_type": "code",
      "execution_count": null,
      "metadata": {
        "id": "-7Cvrsol-Cbs"
      },
      "outputs": [],
      "source": [
        "def stratified_cross_validate(algo, data, measures=['rmse', 'mae'], cv=5, verbose=False, seed=42):\n",
        "    \"\"\"\n",
        "    Perform cross-validation with per-user stratified metrics.\n",
        "\n",
        "    Parameters:\n",
        "    -----------\n",
        "    algo : AlgoBase\n",
        "        Recommender algorithm to evaluate\n",
        "    data : Dataset\n",
        "        Dataset to evaluate on\n",
        "    measures : list\n",
        "        List of metrics to compute\n",
        "    cv : int\n",
        "        Number of cross-validation folds\n",
        "    verbose : bool\n",
        "        Whether to print progress\n",
        "    seed : int\n",
        "        Random seed for reproducibility\n",
        "\n",
        "    Returns:\n",
        "    --------\n",
        "    dict\n",
        "        Dictionary of evaluation results\n",
        "    \"\"\"\n",
        "    from surprise.model_selection import KFold\n",
        "\n",
        "    kf = KFold(n_splits=cv, random_state=seed)\n",
        "\n",
        "    # Metrics to track across folds\n",
        "    all_results = defaultdict(list)\n",
        "\n",
        "    for fold_i, (trainset, testset) in enumerate(kf.split(data)):\n",
        "        if verbose:\n",
        "            print(f\"Fold {fold_i+1}/{cv}...\")\n",
        "\n",
        "        algo.fit(trainset)\n",
        "\n",
        "        # Evaluate with stratified metrics\n",
        "        fold_results = stratified_per_user_evaluate(\n",
        "            algo, testset, measures=measures\n",
        "        )\n",
        "\n",
        "        # Store results\n",
        "        for metric, value in fold_results.items():\n",
        "            all_results[metric].append(value)\n",
        "\n",
        "        if verbose:\n",
        "            print(f\"  Fold {fold_i+1} RMSE: {fold_results.get('rmse', 'N/A'):.4f}, MAE: {fold_results.get('mae', 'N/A'):.4f}\")\n",
        "\n",
        "    results = {}\n",
        "    for metric in measures:\n",
        "        results[f'{metric}_mean'] = np.mean(all_results[metric])\n",
        "        results[f'{metric}_std'] = np.std(all_results[metric])\n",
        "\n",
        "    return results"
      ]
    },
    {
      "cell_type": "code",
      "execution_count": null,
      "metadata": {
        "colab": {
          "base_uri": "https://localhost:8080/"
        },
        "id": "yANuo22_-EZA",
        "outputId": "1d5b6f35-1e96-4a82-a6b3-8841abea7e2f"
      },
      "outputs": [
        {
          "name": "stdout",
          "output_type": "stream",
          "text": [
            "Running stratified evaluation on explicit feedback...\n",
            "\n",
            "Evaluating Random Recommender...\n",
            "Fold 1/5...\n",
            "  Fold 1 RMSE: 2.3236, MAE: 2.0114\n",
            "Fold 2/5...\n",
            "  Fold 2 RMSE: 2.3175, MAE: 2.0045\n",
            "Fold 3/5...\n",
            "  Fold 3 RMSE: 2.3176, MAE: 2.0107\n",
            "Fold 4/5...\n",
            "  Fold 4 RMSE: 2.3457, MAE: 2.0314\n",
            "Fold 5/5...\n",
            "  Fold 5 RMSE: 2.3211, MAE: 2.0094\n",
            "Evaluation completed in 19.30 seconds\n",
            "\n",
            "Evaluating Popularity Recommender...\n",
            "Fold 1/5...\n",
            "  Fold 1 RMSE: 1.7886, MAE: 1.5519\n",
            "Fold 2/5...\n",
            "  Fold 2 RMSE: 1.7689, MAE: 1.5381\n",
            "Fold 3/5...\n",
            "  Fold 3 RMSE: 1.7656, MAE: 1.5346\n",
            "Fold 4/5...\n",
            "  Fold 4 RMSE: 1.7666, MAE: 1.5349\n",
            "Fold 5/5...\n",
            "  Fold 5 RMSE: 1.7761, MAE: 1.5438\n",
            "Evaluation completed in 32.09 seconds\n",
            "\n",
            "Evaluating Bayesian Popularity Recommender...\n",
            "Fold 1/5...\n",
            "  Fold 1 RMSE: 1.6742, MAE: 1.4759\n",
            "Fold 2/5...\n",
            "  Fold 2 RMSE: 1.6554, MAE: 1.4606\n",
            "Fold 3/5...\n",
            "  Fold 3 RMSE: 1.6520, MAE: 1.4592\n",
            "Fold 4/5...\n",
            "  Fold 4 RMSE: 1.6615, MAE: 1.4668\n",
            "Fold 5/5...\n",
            "  Fold 5 RMSE: 1.6614, MAE: 1.4668\n",
            "Evaluation completed in 39.82 seconds\n",
            "\n",
            "Evaluating Collaborative Filtering (SVD)...\n",
            "Fold 1/5...\n",
            "  Fold 1 RMSE: 1.5261, MAE: 1.3284\n",
            "Fold 2/5...\n",
            "  Fold 2 RMSE: 1.5120, MAE: 1.3179\n",
            "Fold 3/5...\n",
            "  Fold 3 RMSE: 1.5041, MAE: 1.3114\n",
            "Fold 4/5...\n",
            "  Fold 4 RMSE: 1.5149, MAE: 1.3199\n",
            "Fold 5/5...\n",
            "  Fold 5 RMSE: 1.5160, MAE: 1.3210\n",
            "Evaluation completed in 68.13 seconds\n"
          ]
        }
      ],
      "source": [
        "# Initialize recommenders\n",
        "random_RS = MyRandomRecommender()\n",
        "popular_RS = MyPopularRecommender()\n",
        "bayesian_RS = BayesianPopularityRecommender(prior_weight=10)\n",
        "cf_RS = SVD(random_state=my_seed)\n",
        "\n",
        "print(\"Running stratified evaluation on explicit feedback...\")\n",
        "explicit_results = {}\n",
        "\n",
        "metrics = ['rmse', 'mae']\n",
        "\n",
        "# Random Recommender\n",
        "print(\"\\nEvaluating Random Recommender...\")\n",
        "start_time = time.time()\n",
        "explicit_results['Random'] = stratified_cross_validate(\n",
        "    random_RS, explicit_data,\n",
        "    measures=metrics, cv=5, verbose=True, seed=my_seed\n",
        ")\n",
        "print(f\"Evaluation completed in {time.time() - start_time:.2f} seconds\")\n",
        "\n",
        "# Popularity Recommender\n",
        "print(\"\\nEvaluating Popularity Recommender...\")\n",
        "start_time = time.time()\n",
        "explicit_results['Popularity'] = stratified_cross_validate(\n",
        "    popular_RS, explicit_data,\n",
        "    measures=metrics, cv=5, verbose=True, seed=my_seed\n",
        ")\n",
        "print(f\"Evaluation completed in {time.time() - start_time:.2f} seconds\")\n",
        "\n",
        "# Bayesian Popularity Recommender\n",
        "print(\"\\nEvaluating Bayesian Popularity Recommender...\")\n",
        "start_time = time.time()\n",
        "explicit_results['Bayesian'] = stratified_cross_validate(\n",
        "    bayesian_RS, explicit_data,\n",
        "    measures=metrics, cv=5, verbose=True, seed=my_seed\n",
        ")\n",
        "print(f\"Evaluation completed in {time.time() - start_time:.2f} seconds\")\n",
        "\n",
        "# Collaborative Filtering\n",
        "print(\"\\nEvaluating Collaborative Filtering (SVD)...\")\n",
        "start_time = time.time()\n",
        "explicit_results['SVD'] = stratified_cross_validate(\n",
        "    cf_RS, explicit_data,\n",
        "    measures=metrics, cv=5, verbose=True, seed=my_seed\n",
        ")\n",
        "print(f\"Evaluation completed in {time.time() - start_time:.2f} seconds\")"
      ]
    },
    {
      "cell_type": "code",
      "execution_count": null,
      "metadata": {
        "colab": {
          "base_uri": "https://localhost:8080/",
          "height": 750
        },
        "id": "DSx_SjPe-Gqm",
        "outputId": "ff21f9ec-f316-4839-f431-1708a1c09e77"
      },
      "outputs": [
        {
          "name": "stdout",
          "output_type": "stream",
          "text": [
            "\n",
            "Stratified Per-User Evaluation Results:\n",
            "                RMSE  RMSE_std       MAE   MAE_std\n",
            "SVD         1.514624  0.007074  1.319734  0.005443\n",
            "Bayesian    1.660900  0.007568  1.465851  0.005906\n",
            "Popularity  1.773155  0.008556  1.540665  0.006519\n",
            "Random      2.325101  0.010569  2.013491  0.009271\n",
            "\n"
          ]
        },
        {
          "data": {
            "image/png": "[encoded data removed]",
            "text/plain": [
              "<Figure size 1200x600 with 2 Axes>"
            ]
          },
          "metadata": {},
          "output_type": "display_data"
        }
      ],
      "source": [
        "comparison_df = pd.DataFrame({\n",
        "    'RMSE': [results['rmse_mean'] for _, results in explicit_results.items()],\n",
        "    'RMSE_std': [results['rmse_std'] for _, results in explicit_results.items()],\n",
        "    'MAE': [results['mae_mean'] for _, results in explicit_results.items()],\n",
        "    'MAE_std': [results['mae_std'] for _, results in explicit_results.items()]\n",
        "}, index=explicit_results.keys())\n",
        "\n",
        "comparison_df = comparison_df.sort_values('RMSE')\n",
        "\n",
        "print(\"\\nStratified Per-User Evaluation Results:\")\n",
        "print(comparison_df)\n",
        "print()\n",
        "\n",
        "# Create visualizations\n",
        "plt.figure(figsize=(12, 6))\n",
        "\n",
        "# Plot RMSE\n",
        "plt.subplot(1, 2, 1)\n",
        "bars = plt.bar(comparison_df.index, comparison_df['RMSE'],\n",
        "       yerr=comparison_df['RMSE_std'], capsize=7,\n",
        "       color=['#1f77b4', '#ff7f0e', '#2ca02c', '#d62728'])\n",
        "\n",
        "for bar, value in zip(bars, comparison_df['RMSE']):\n",
        "    plt.text(bar.get_x() + bar.get_width()/2, bar.get_height() + 0.02,\n",
        "             f'{value:.3f}', ha='center', va='bottom', fontweight='bold')\n",
        "\n",
        "plt.title('RMSE Comparison (lower is better)')\n",
        "plt.ylabel('RMSE')\n",
        "plt.ylim(0, comparison_df['RMSE'].max() * 1.2)\n",
        "plt.grid(axis='y', linestyle='--', alpha=0.7)\n",
        "\n",
        "# Plot MAE\n",
        "plt.subplot(1, 2, 2)\n",
        "bars = plt.bar(comparison_df.index, comparison_df['MAE'],\n",
        "       yerr=comparison_df['MAE_std'], capsize=7,\n",
        "       color=['#1f77b4', '#ff7f0e', '#2ca02c', '#d62728'])\n",
        "\n",
        "for bar, value in zip(bars, comparison_df['MAE']):\n",
        "    plt.text(bar.get_x() + bar.get_width()/2, bar.get_height() + 0.02,\n",
        "             f'{value:.3f}', ha='center', va='bottom', fontweight='bold')\n",
        "\n",
        "plt.title('MAE Comparison (lower is better)')\n",
        "plt.ylabel('MAE')\n",
        "plt.ylim(0, comparison_df['MAE'].max() * 1.2)\n",
        "plt.grid(axis='y', linestyle='--', alpha=0.7)\n",
        "\n",
        "plt.suptitle('Stratified Per-User Evaluation (Each User Contributes Equally)', fontsize=14)\n",
        "plt.tight_layout()\n",
        "plt.savefig('stratified_evaluation_comparison.png', dpi=300, bbox_inches='tight')\n",
        "plt.show()"
      ]
    },
    {
      "cell_type": "markdown",
      "metadata": {
        "id": "AbBJ2SP2Bgmd"
      },
      "source": [
        "### **Results**\n",
        "\n",
        "The stratified results provide a more accurate picture of real-world performance by not letting active users overwhelm the metrics, providing stakeholders with a clearer picture of how each recommender would rank across the whole user base, including casual and new users who may have limited rating history."
      ]
    }
  ],
  "metadata": {
    "colab": {
      "provenance": [],
      "toc_visible": true
    },
    "kernelspec": {
      "display_name": "CRE",
      "language": "python",
      "name": "python3"
    },
    "language_info": {
      "name": "python",
      "version": "3.10.7"
    }
  },
  "nbformat": 4,
  "nbformat_minor": 0
}
